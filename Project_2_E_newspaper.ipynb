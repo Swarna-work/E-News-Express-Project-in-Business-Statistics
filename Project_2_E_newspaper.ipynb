{
 "cells": [
  {
   "cell_type": "markdown",
   "id": "df8e92ed",
   "metadata": {},
   "source": [
    "# Project Business Statistics:  E-news Express"
   ]
  },
  {
   "cell_type": "markdown",
   "id": "92ec5276",
   "metadata": {},
   "source": [
    "## Problem Statement"
   ]
  },
  {
   "cell_type": "markdown",
   "id": "61f566eb",
   "metadata": {},
   "source": [
    "### Context"
   ]
  },
  {
   "cell_type": "markdown",
   "id": "ada1d6e8",
   "metadata": {},
   "source": [
    "An online news portal aims to expand its business by acquiring new subscribers. Every visitor to the website takes certain actions based on their interest. The company plans to analyze these interests and wants to determine whether a new feature will be effective or not. Companies often analyze users' responses to two variants of a product to decide which of the two variants is more effective. This experimental technique is known as a/b testing that is used to determine whether a new feature attracts users based on a chosen metric.\n",
    "\n",
    "The design team of the company has created a new landing page. You have been assigned the task to decide whether the new landing page is more effective to gather new subscribers. Suppose you randomly selected 100 users and divided them equally into two groups. The old landing page is served to the first group (control group) and the new landing page is served to the second group (treatment group).  Various data about the customers in both groups are collected in 'abtest.csv'."
   ]
  },
  {
   "cell_type": "markdown",
   "id": "53b86e3b",
   "metadata": {},
   "source": [
    "### Objective"
   ]
  },
  {
   "cell_type": "markdown",
   "id": "fb59d11a",
   "metadata": {},
   "source": [
    "Suppose you are hired as a Data Scientist in E-news Express. Perform statistical analysis of business data. Explore the dataset and extract insights from the data. \n",
    "\n",
    "You are expected to perform the statistical analysis to answer the following questions:\n",
    "\n",
    "1. Explore the dataset and extract insights using Exploratory Data Analysis.(EDA) \n",
    "\n",
    "2. Do the users spend more time on the new landing page than the old landing page?\n",
    "\n",
    "3. Is the conversion rate (the proportion of users who visit the landing page and get converted) for the new page greater than the conversion rate for the old page?\n",
    "\n",
    "4. Does the converted status depend on the preferred language? [Hint: Create a contingency table using the pandas.crosstab() function]\n",
    "\n",
    "5. Is the mean time spent on the new page same for the different language users?\n",
    "\n",
    "*Consider a significance level of 0.05 for all tests."
   ]
  },
  {
   "cell_type": "markdown",
   "id": "e506ed61",
   "metadata": {},
   "source": [
    "### Data Description\n",
    "\n",
    "The data contains the different data related to a E-news Express. The detailed data dictionary is given below.\n"
   ]
  },
  {
   "cell_type": "markdown",
   "id": "044696b6",
   "metadata": {},
   "source": [
    "### Data Dictionary"
   ]
  },
  {
   "cell_type": "markdown",
   "id": "5d2c93f6",
   "metadata": {},
   "source": [
    "1. user_id - This represents the user ID of the person visiting the website.\n",
    "2. group - This represents whether the user belongs to the first group (control) or the second group (treatment).\n",
    "3. landing_page - This represents whether the landing page is new or old.\n",
    "4. time_spent_on_the_page - This represents the time (in minutes) spent by the user on the landing page.\n",
    "5. converted - This represents whether the user gets converted to a subscriber of the news portal or not.\n",
    "6. language_preferred - This represents the language chosen by the user to view the landing page."
   ]
  },
  {
   "cell_type": "markdown",
   "id": "0936dfbd",
   "metadata": {},
   "source": [
    "## 1.a. Understand the Structure of the Data"
   ]
  },
  {
   "cell_type": "markdown",
   "id": "b1e32af4",
   "metadata": {},
   "source": [
    "### Let us start by importing the required libraries"
   ]
  },
  {
   "cell_type": "code",
   "execution_count": 1,
   "id": "3a9354d5",
   "metadata": {},
   "outputs": [],
   "source": [
    "#import the important packages\n",
    "\n",
    "import warnings \n",
    "warnings.filterwarnings('ignore') # supress warnings\n",
    "import pandas as pd #library used for data manipulation and analysis\n",
    "import numpy as np # library used for working with arrays.\n",
    "import matplotlib.pyplot as plt # library for plots and visualisations\n",
    "import seaborn as sns # library for visualisations\n",
    "%matplotlib inline \n",
    "\n",
    "import scipy.stats as stats # this library contains a large number of probability distributions as well as a growing library of statistical functions."
   ]
  },
  {
   "cell_type": "code",
   "execution_count": 2,
   "id": "63352d76",
   "metadata": {},
   "outputs": [],
   "source": [
    "# reading the dataset using pandas read_csv\n",
    "df=pd.read_csv(\"abtest.csv\") "
   ]
  },
  {
   "cell_type": "code",
   "execution_count": 3,
   "id": "76a2da85",
   "metadata": {
    "scrolled": true
   },
   "outputs": [
    {
     "data": {
      "text/html": [
       "<div>\n",
       "<style scoped>\n",
       "    .dataframe tbody tr th:only-of-type {\n",
       "        vertical-align: middle;\n",
       "    }\n",
       "\n",
       "    .dataframe tbody tr th {\n",
       "        vertical-align: top;\n",
       "    }\n",
       "\n",
       "    .dataframe thead th {\n",
       "        text-align: right;\n",
       "    }\n",
       "</style>\n",
       "<table border=\"1\" class=\"dataframe\">\n",
       "  <thead>\n",
       "    <tr style=\"text-align: right;\">\n",
       "      <th></th>\n",
       "      <th>user_id</th>\n",
       "      <th>group</th>\n",
       "      <th>landing_page</th>\n",
       "      <th>time_spent_on_the_page</th>\n",
       "      <th>converted</th>\n",
       "      <th>language_preferred</th>\n",
       "    </tr>\n",
       "  </thead>\n",
       "  <tbody>\n",
       "    <tr>\n",
       "      <th>0</th>\n",
       "      <td>546592</td>\n",
       "      <td>control</td>\n",
       "      <td>old</td>\n",
       "      <td>3.48</td>\n",
       "      <td>no</td>\n",
       "      <td>Spanish</td>\n",
       "    </tr>\n",
       "    <tr>\n",
       "      <th>1</th>\n",
       "      <td>546468</td>\n",
       "      <td>treatment</td>\n",
       "      <td>new</td>\n",
       "      <td>7.13</td>\n",
       "      <td>yes</td>\n",
       "      <td>English</td>\n",
       "    </tr>\n",
       "    <tr>\n",
       "      <th>2</th>\n",
       "      <td>546462</td>\n",
       "      <td>treatment</td>\n",
       "      <td>new</td>\n",
       "      <td>4.40</td>\n",
       "      <td>no</td>\n",
       "      <td>Spanish</td>\n",
       "    </tr>\n",
       "    <tr>\n",
       "      <th>3</th>\n",
       "      <td>546567</td>\n",
       "      <td>control</td>\n",
       "      <td>old</td>\n",
       "      <td>3.02</td>\n",
       "      <td>no</td>\n",
       "      <td>French</td>\n",
       "    </tr>\n",
       "    <tr>\n",
       "      <th>4</th>\n",
       "      <td>546459</td>\n",
       "      <td>treatment</td>\n",
       "      <td>new</td>\n",
       "      <td>4.75</td>\n",
       "      <td>yes</td>\n",
       "      <td>Spanish</td>\n",
       "    </tr>\n",
       "  </tbody>\n",
       "</table>\n",
       "</div>"
      ],
      "text/plain": [
       "   user_id      group landing_page  time_spent_on_the_page converted  \\\n",
       "0   546592    control          old                    3.48        no   \n",
       "1   546468  treatment          new                    7.13       yes   \n",
       "2   546462  treatment          new                    4.40        no   \n",
       "3   546567    control          old                    3.02        no   \n",
       "4   546459  treatment          new                    4.75       yes   \n",
       "\n",
       "  language_preferred  \n",
       "0            Spanish  \n",
       "1            English  \n",
       "2            Spanish  \n",
       "3             French  \n",
       "4            Spanish  "
      ]
     },
     "execution_count": 3,
     "metadata": {},
     "output_type": "execute_result"
    }
   ],
   "source": [
    "df.head() # display first 5 rows of dataset using head() function"
   ]
  },
  {
   "cell_type": "markdown",
   "id": "ff0d5929",
   "metadata": {},
   "source": [
    "#### Observation: \n",
    "\n",
    "The DataFrame has 6 columns mentioned in the datatictionary.  Data in each row correcponds to the activity, duration spent on the page and preferences of each user. "
   ]
  },
  {
   "cell_type": "code",
   "execution_count": 4,
   "id": "fec1d461",
   "metadata": {
    "scrolled": false
   },
   "outputs": [
    {
     "data": {
      "text/plain": [
       "(100, 6)"
      ]
     },
     "execution_count": 4,
     "metadata": {},
     "output_type": "execute_result"
    }
   ],
   "source": [
    "df.shape # identifies the shape of the dataset(number of rows and columns)"
   ]
  },
  {
   "cell_type": "markdown",
   "id": "03404f44",
   "metadata": {},
   "source": [
    "#### Observation:\n",
    "\n",
    "The DataFrame contains the information of 100 rows(users) with 6 columns(variables) "
   ]
  },
  {
   "cell_type": "code",
   "execution_count": 5,
   "id": "4b9c95dd",
   "metadata": {
    "scrolled": true
   },
   "outputs": [
    {
     "data": {
      "text/plain": [
       "546560    1\n",
       "546473    1\n",
       "546483    1\n",
       "546482    1\n",
       "546481    1\n",
       "         ..\n",
       "546590    1\n",
       "546589    1\n",
       "546588    1\n",
       "546587    1\n",
       "546559    1\n",
       "Name: user_id, Length: 100, dtype: int64"
      ]
     },
     "execution_count": 5,
     "metadata": {},
     "output_type": "execute_result"
    }
   ],
   "source": [
    "df.user_id.value_counts() # Find the uniquness of the columns user_id"
   ]
  },
  {
   "cell_type": "markdown",
   "id": "48e2ed1f",
   "metadata": {},
   "source": [
    "#### Observations:\n",
    "\n",
    "The dataset has 100 unique customers, which has been verified using value_counts function on user_id column. "
   ]
  },
  {
   "cell_type": "code",
   "execution_count": 6,
   "id": "7cf554ca",
   "metadata": {
    "scrolled": false
   },
   "outputs": [
    {
     "data": {
      "text/html": [
       "<div>\n",
       "<style scoped>\n",
       "    .dataframe tbody tr th:only-of-type {\n",
       "        vertical-align: middle;\n",
       "    }\n",
       "\n",
       "    .dataframe tbody tr th {\n",
       "        vertical-align: top;\n",
       "    }\n",
       "\n",
       "    .dataframe thead th {\n",
       "        text-align: right;\n",
       "    }\n",
       "</style>\n",
       "<table border=\"1\" class=\"dataframe\">\n",
       "  <thead>\n",
       "    <tr style=\"text-align: right;\">\n",
       "      <th></th>\n",
       "      <th>user_id</th>\n",
       "      <th>time_spent_on_the_page</th>\n",
       "    </tr>\n",
       "  </thead>\n",
       "  <tbody>\n",
       "    <tr>\n",
       "      <th>count</th>\n",
       "      <td>100.000000</td>\n",
       "      <td>100.000000</td>\n",
       "    </tr>\n",
       "    <tr>\n",
       "      <th>mean</th>\n",
       "      <td>546517.000000</td>\n",
       "      <td>5.377800</td>\n",
       "    </tr>\n",
       "    <tr>\n",
       "      <th>std</th>\n",
       "      <td>52.295779</td>\n",
       "      <td>2.378166</td>\n",
       "    </tr>\n",
       "    <tr>\n",
       "      <th>min</th>\n",
       "      <td>546443.000000</td>\n",
       "      <td>0.190000</td>\n",
       "    </tr>\n",
       "    <tr>\n",
       "      <th>25%</th>\n",
       "      <td>546467.750000</td>\n",
       "      <td>3.880000</td>\n",
       "    </tr>\n",
       "    <tr>\n",
       "      <th>50%</th>\n",
       "      <td>546492.500000</td>\n",
       "      <td>5.415000</td>\n",
       "    </tr>\n",
       "    <tr>\n",
       "      <th>75%</th>\n",
       "      <td>546567.250000</td>\n",
       "      <td>7.022500</td>\n",
       "    </tr>\n",
       "    <tr>\n",
       "      <th>max</th>\n",
       "      <td>546592.000000</td>\n",
       "      <td>10.710000</td>\n",
       "    </tr>\n",
       "  </tbody>\n",
       "</table>\n",
       "</div>"
      ],
      "text/plain": [
       "             user_id  time_spent_on_the_page\n",
       "count     100.000000              100.000000\n",
       "mean   546517.000000                5.377800\n",
       "std        52.295779                2.378166\n",
       "min    546443.000000                0.190000\n",
       "25%    546467.750000                3.880000\n",
       "50%    546492.500000                5.415000\n",
       "75%    546567.250000                7.022500\n",
       "max    546592.000000               10.710000"
      ]
     },
     "execution_count": 6,
     "metadata": {},
     "output_type": "execute_result"
    }
   ],
   "source": [
    "df.describe() # gives the statistical values for numerical variables"
   ]
  },
  {
   "cell_type": "markdown",
   "id": "fc1f969d",
   "metadata": {},
   "source": [
    "#### Observations:\n",
    "\n",
    "* The maximum time spent on the page is 10.71 minutes by overall users. \n",
    "* Minimum time spent on the page is 0.19 minutes by overall users. \n",
    "* Average time spent by a customer is 5.377 minutes by overall users. \n",
    "* Standard deviation of the time spent between the users is 2.37 minutes by overall users. "
   ]
  },
  {
   "cell_type": "code",
   "execution_count": 7,
   "id": "864e5c27",
   "metadata": {
    "scrolled": true
   },
   "outputs": [
    {
     "data": {
      "text/html": [
       "<div>\n",
       "<style scoped>\n",
       "    .dataframe tbody tr th:only-of-type {\n",
       "        vertical-align: middle;\n",
       "    }\n",
       "\n",
       "    .dataframe tbody tr th {\n",
       "        vertical-align: top;\n",
       "    }\n",
       "\n",
       "    .dataframe thead th {\n",
       "        text-align: right;\n",
       "    }\n",
       "</style>\n",
       "<table border=\"1\" class=\"dataframe\">\n",
       "  <thead>\n",
       "    <tr style=\"text-align: right;\">\n",
       "      <th></th>\n",
       "      <th>group</th>\n",
       "      <th>landing_page</th>\n",
       "      <th>converted</th>\n",
       "      <th>language_preferred</th>\n",
       "    </tr>\n",
       "  </thead>\n",
       "  <tbody>\n",
       "    <tr>\n",
       "      <th>count</th>\n",
       "      <td>100</td>\n",
       "      <td>100</td>\n",
       "      <td>100</td>\n",
       "      <td>100</td>\n",
       "    </tr>\n",
       "    <tr>\n",
       "      <th>unique</th>\n",
       "      <td>2</td>\n",
       "      <td>2</td>\n",
       "      <td>2</td>\n",
       "      <td>3</td>\n",
       "    </tr>\n",
       "    <tr>\n",
       "      <th>top</th>\n",
       "      <td>control</td>\n",
       "      <td>old</td>\n",
       "      <td>yes</td>\n",
       "      <td>Spanish</td>\n",
       "    </tr>\n",
       "    <tr>\n",
       "      <th>freq</th>\n",
       "      <td>50</td>\n",
       "      <td>50</td>\n",
       "      <td>54</td>\n",
       "      <td>34</td>\n",
       "    </tr>\n",
       "  </tbody>\n",
       "</table>\n",
       "</div>"
      ],
      "text/plain": [
       "          group landing_page converted language_preferred\n",
       "count       100          100       100                100\n",
       "unique        2            2         2                  3\n",
       "top     control          old       yes            Spanish\n",
       "freq         50           50        54                 34"
      ]
     },
     "execution_count": 7,
     "metadata": {},
     "output_type": "execute_result"
    }
   ],
   "source": [
    "df.describe(include=\"object\") # returns the statistical values for objective variable"
   ]
  },
  {
   "cell_type": "markdown",
   "id": "31d2128e",
   "metadata": {},
   "source": [
    "#### Observations:\n",
    "\n",
    "* There are 4 objective type variables in the dataset.\n",
    "* group column has 2 unique catagories.\n",
    "* landing_page columns has 2 unique catagories. \n",
    "* converted column has 2 unique catagories.The frequency of catagory \"yes\" is 54 which is the highest in this column.\n",
    "* language_preferred has 3 unique catagories, language Spanish and French are counted to highest number of 34 in the column.  "
   ]
  },
  {
   "cell_type": "code",
   "execution_count": 8,
   "id": "b6b8ecc8",
   "metadata": {
    "scrolled": false
   },
   "outputs": [
    {
     "name": "stdout",
     "output_type": "stream",
     "text": [
      "<class 'pandas.core.frame.DataFrame'>\n",
      "RangeIndex: 100 entries, 0 to 99\n",
      "Data columns (total 6 columns):\n",
      " #   Column                  Non-Null Count  Dtype  \n",
      "---  ------                  --------------  -----  \n",
      " 0   user_id                 100 non-null    int64  \n",
      " 1   group                   100 non-null    object \n",
      " 2   landing_page            100 non-null    object \n",
      " 3   time_spent_on_the_page  100 non-null    float64\n",
      " 4   converted               100 non-null    object \n",
      " 5   language_preferred      100 non-null    object \n",
      "dtypes: float64(1), int64(1), object(4)\n",
      "memory usage: 4.8+ KB\n"
     ]
    }
   ],
   "source": [
    "df.info() # identifies the missing values and data types"
   ]
  },
  {
   "cell_type": "markdown",
   "id": "be35a02f",
   "metadata": {},
   "source": [
    "#### Observations:\n",
    "\n",
    "* There are 4 objective type columns(variables), 1 integer column(variable) and 1 float column(variable) in the data set. \n",
    "* There are no columns with null value/missing value in the data set. \n",
    "* Used memory space for this data set is 4.8 KB. "
   ]
  },
  {
   "cell_type": "code",
   "execution_count": 9,
   "id": "772e556f",
   "metadata": {
    "scrolled": true
   },
   "outputs": [
    {
     "name": "stdout",
     "output_type": "stream",
     "text": [
      "<class 'pandas.core.frame.DataFrame'>\n",
      "RangeIndex: 100 entries, 0 to 99\n",
      "Data columns (total 6 columns):\n",
      " #   Column                  Non-Null Count  Dtype   \n",
      "---  ------                  --------------  -----   \n",
      " 0   user_id                 100 non-null    int64   \n",
      " 1   group                   100 non-null    category\n",
      " 2   landing_page            100 non-null    category\n",
      " 3   time_spent_on_the_page  100 non-null    float64 \n",
      " 4   converted               100 non-null    category\n",
      " 5   language_preferred      100 non-null    category\n",
      "dtypes: category(4), float64(1), int64(1)\n",
      "memory usage: 2.6 KB\n"
     ]
    }
   ],
   "source": [
    "# coverting \"objects\" to \"category\" reduces the data space required to store the dataframe\n",
    "\n",
    "df.group = df.group.astype('category') # Convert group from object to category\n",
    "df.landing_page = df.landing_page.astype('category') # Convert landing_page from object to category\n",
    "df.converted = df.converted.astype('category')  # Change the column converted from object to category\n",
    "df.language_preferred = df.language_preferred.astype('category') # Convert language_preferred from object to category\n",
    "\n",
    "\n",
    "# use info() to print a concise summary of the DataFrame and check wether the size of df been reduced or not. \n",
    "df.info()"
   ]
  },
  {
   "cell_type": "markdown",
   "id": "8931c66d",
   "metadata": {},
   "source": [
    "#### Observations:\n",
    "\n",
    "* The datatype of the columns group, landing_oage, converted and language_preferred been converted to catagory from        objective type.\n",
    "* The memory size of the dataframe now reduced to 2.6 KB from 4.8 KB."
   ]
  },
  {
   "cell_type": "code",
   "execution_count": 10,
   "id": "882dd2c7",
   "metadata": {
    "scrolled": true
   },
   "outputs": [
    {
     "data": {
      "text/plain": [
       "yes    54\n",
       "no     46\n",
       "Name: converted, dtype: int64"
      ]
     },
     "execution_count": 10,
     "metadata": {},
     "output_type": "execute_result"
    }
   ],
   "source": [
    "df[\"converted\"].value_counts() # counts the number of unique items in the \"converted\" column"
   ]
  },
  {
   "cell_type": "markdown",
   "id": "d8146927",
   "metadata": {},
   "source": [
    "#### Observation:\n",
    "\n",
    "There are 54 yes and 46 no in the converted column."
   ]
  },
  {
   "cell_type": "code",
   "execution_count": 11,
   "id": "52dd795b",
   "metadata": {},
   "outputs": [
    {
     "data": {
      "text/plain": [
       "new    50\n",
       "old    50\n",
       "Name: landing_page, dtype: int64"
      ]
     },
     "execution_count": 11,
     "metadata": {},
     "output_type": "execute_result"
    }
   ],
   "source": [
    "df[\"landing_page\"].value_counts() # counts the number of unique items in the \"landing_page\" column"
   ]
  },
  {
   "cell_type": "markdown",
   "id": "d09a7385",
   "metadata": {},
   "source": [
    "#### Observations:\n",
    "\n",
    "* There are 50 old landing_page and 50 new landing_page in the landing_page column. "
   ]
  },
  {
   "cell_type": "code",
   "execution_count": 12,
   "id": "81347875",
   "metadata": {},
   "outputs": [
    {
     "data": {
      "text/plain": [
       "French     34\n",
       "Spanish    34\n",
       "English    32\n",
       "Name: language_preferred, dtype: int64"
      ]
     },
     "execution_count": 12,
     "metadata": {},
     "output_type": "execute_result"
    }
   ],
   "source": [
    "df[\"language_preferred\"].value_counts() # counts the number of unique items in the \"language_preferred\" column"
   ]
  },
  {
   "cell_type": "markdown",
   "id": "6349d2e5",
   "metadata": {},
   "source": [
    "#### Observations:\n",
    "\n",
    "* There are 3 languages in the language_preferred column. \n",
    "* French and Spanish counts to 34 each and Enlish counts to 32. "
   ]
  },
  {
   "cell_type": "code",
   "execution_count": 13,
   "id": "f982d9f4",
   "metadata": {
    "scrolled": false
   },
   "outputs": [
    {
     "data": {
      "text/plain": [
       "control      50\n",
       "treatment    50\n",
       "Name: group, dtype: int64"
      ]
     },
     "execution_count": 13,
     "metadata": {},
     "output_type": "execute_result"
    }
   ],
   "source": [
    "df[\"group\"].value_counts() #  counts the number of unique items in the \"group\" column"
   ]
  },
  {
   "cell_type": "markdown",
   "id": "a91cb4aa",
   "metadata": {},
   "source": [
    "#### Observations:\n",
    "\n",
    "* group column has 2 unique catagory which is control and treatment. Each group has 50 users in it. "
   ]
  },
  {
   "cell_type": "code",
   "execution_count": 14,
   "id": "3b83ab27",
   "metadata": {
    "scrolled": true
   },
   "outputs": [
    {
     "data": {
      "text/html": [
       "<div>\n",
       "<style scoped>\n",
       "    .dataframe tbody tr th:only-of-type {\n",
       "        vertical-align: middle;\n",
       "    }\n",
       "\n",
       "    .dataframe tbody tr th {\n",
       "        vertical-align: top;\n",
       "    }\n",
       "\n",
       "    .dataframe thead th {\n",
       "        text-align: right;\n",
       "    }\n",
       "</style>\n",
       "<table border=\"1\" class=\"dataframe\">\n",
       "  <thead>\n",
       "    <tr style=\"text-align: right;\">\n",
       "      <th></th>\n",
       "      <th>count</th>\n",
       "      <th>mean</th>\n",
       "      <th>std</th>\n",
       "      <th>min</th>\n",
       "      <th>25%</th>\n",
       "      <th>50%</th>\n",
       "      <th>75%</th>\n",
       "      <th>max</th>\n",
       "    </tr>\n",
       "    <tr>\n",
       "      <th>group</th>\n",
       "      <th></th>\n",
       "      <th></th>\n",
       "      <th></th>\n",
       "      <th></th>\n",
       "      <th></th>\n",
       "      <th></th>\n",
       "      <th></th>\n",
       "      <th></th>\n",
       "    </tr>\n",
       "  </thead>\n",
       "  <tbody>\n",
       "    <tr>\n",
       "      <th>control</th>\n",
       "      <td>50.0</td>\n",
       "      <td>4.5324</td>\n",
       "      <td>2.581975</td>\n",
       "      <td>0.19</td>\n",
       "      <td>2.720</td>\n",
       "      <td>4.380</td>\n",
       "      <td>6.4425</td>\n",
       "      <td>10.30</td>\n",
       "    </tr>\n",
       "    <tr>\n",
       "      <th>treatment</th>\n",
       "      <td>50.0</td>\n",
       "      <td>6.2232</td>\n",
       "      <td>1.817031</td>\n",
       "      <td>1.65</td>\n",
       "      <td>5.175</td>\n",
       "      <td>6.105</td>\n",
       "      <td>7.1600</td>\n",
       "      <td>10.71</td>\n",
       "    </tr>\n",
       "  </tbody>\n",
       "</table>\n",
       "</div>"
      ],
      "text/plain": [
       "           count    mean       std   min    25%    50%     75%    max\n",
       "group                                                                \n",
       "control     50.0  4.5324  2.581975  0.19  2.720  4.380  6.4425  10.30\n",
       "treatment   50.0  6.2232  1.817031  1.65  5.175  6.105  7.1600  10.71"
      ]
     },
     "execution_count": 14,
     "metadata": {},
     "output_type": "execute_result"
    }
   ],
   "source": [
    "df_group_time=df.groupby(by=[\"group\"])[\"time_spent_on_the_page\"].describe()\n",
    "df_group_time"
   ]
  },
  {
   "cell_type": "markdown",
   "id": "d3d6e27b",
   "metadata": {},
   "source": [
    "#### Observations:\n",
    "\n",
    "* The mean time spent by control group user is 4.5 mins and treatment group user is 6.22 mins\n",
    "* The standard dev of control group users is 2.58 mins and treatment group user is 1.81 mins\n",
    "* The minimum time spent by control group users is 0.19 mins and treatment group user is 1.65 mins\n",
    "* The maximum time spent by control group users is 10.30 mins and treatment group user  is 10.71 mins. "
   ]
  },
  {
   "cell_type": "code",
   "execution_count": 15,
   "id": "2bd22e6b",
   "metadata": {},
   "outputs": [
    {
     "data": {
      "text/plain": [
       "user_id                   0\n",
       "group                     0\n",
       "landing_page              0\n",
       "time_spent_on_the_page    0\n",
       "converted                 0\n",
       "language_preferred        0\n",
       "dtype: int64"
      ]
     },
     "execution_count": 15,
     "metadata": {},
     "output_type": "execute_result"
    }
   ],
   "source": [
    "df.isna().sum() # finds if there is any null value in the data frame"
   ]
  },
  {
   "cell_type": "markdown",
   "id": "b9815f81",
   "metadata": {},
   "source": [
    "#### Observations:\n",
    "\n",
    "* There is no missing value in the dataset in any of the column. "
   ]
  },
  {
   "cell_type": "markdown",
   "id": "1d553625",
   "metadata": {},
   "source": [
    "## 1.b. Exploratory Data Analysis"
   ]
  },
  {
   "cell_type": "code",
   "execution_count": 16,
   "id": "388b9bb7",
   "metadata": {},
   "outputs": [
    {
     "data": {
      "text/plain": [
       "Index(['user_id', 'group', 'landing_page', 'time_spent_on_the_page',\n",
       "       'converted', 'language_preferred'],\n",
       "      dtype='object')"
      ]
     },
     "execution_count": 16,
     "metadata": {},
     "output_type": "execute_result"
    }
   ],
   "source": [
    "df. columns # Getting the list of columns to get an idea on how to  perform EDA"
   ]
  },
  {
   "cell_type": "markdown",
   "id": "fb5b6056",
   "metadata": {},
   "source": [
    "### i) Univariate Analysis"
   ]
  },
  {
   "cell_type": "code",
   "execution_count": 17,
   "id": "245aa694",
   "metadata": {},
   "outputs": [],
   "source": [
    "def label_countplot(data, column, perc=True, n=None): # User defined function to add label for countplot\n",
    "    \n",
    "    count=df[column].nunique() # counts the number of rows with unique values\n",
    "    if n is None:\n",
    "        plt.figure(figsize=(count+1,5)) # fix the figure size \n",
    "    else:\n",
    "        plt.figure(figsize=(n+1,5)) \n",
    "    ax=sns.countplot(data=data, x=column, order=data[column].value_counts().index[:n].sort_values(), palette=\"nipy_spectral\") # plots the countplot usng seaborn library.   \n",
    "    for p in ax.patches: \n",
    "        if perc==True:\n",
    "            label = \"{:.2f}%\".format( 100*p.get_height()/len(data[column]) ) # calculate the percentafe for each column(bar) in the countplot\n",
    "        else:\n",
    "            label = p.get_height() # if perc=False, just get the count of the column\n",
    "    \n",
    "        x=p.get_x() + p.get_width()/2 \n",
    "        y=p.get_height()\n",
    "        ax.annotate(label,(x,y),ha=\"center\",va=\"center\",size=12,xytext=(0, 5),textcoords=\"offset points\",)\n",
    "    plt.show()"
   ]
  },
  {
   "cell_type": "code",
   "execution_count": 18,
   "id": "571dde02",
   "metadata": {},
   "outputs": [
    {
     "data": {
      "image/png": "[encoded data removed]",
      "text/plain": [
       "<Figure size 216x360 with 1 Axes>"
      ]
     },
     "metadata": {
      "needs_background": "light"
     },
     "output_type": "display_data"
    }
   ],
   "source": [
    "label_countplot(df,\"group\",perc=True)"
   ]
  },
  {
   "cell_type": "markdown",
   "id": "fe4aaec9",
   "metadata": {},
   "source": [
    "#### Observation:\n",
    "\n",
    "* The labelled countplot of \"group\" column shows treatment and control group have equal percentage of users which is 50%. "
   ]
  },
  {
   "cell_type": "code",
   "execution_count": 19,
   "id": "cdfde3b7",
   "metadata": {},
   "outputs": [
    {
     "data": {
      "image/png": "[encoded data removed]",
      "text/plain": [
       "<Figure size 216x360 with 1 Axes>"
      ]
     },
     "metadata": {
      "needs_background": "light"
     },
     "output_type": "display_data"
    }
   ],
   "source": [
    "label_countplot(df,\"converted\",perc=True) # labeled countplot for converted column"
   ]
  },
  {
   "cell_type": "markdown",
   "id": "f4471336",
   "metadata": {},
   "source": [
    "#### Observation:\n",
    "\n",
    "* The countplot shows 54% of users are converted and 46% of users are not converted. "
   ]
  },
  {
   "cell_type": "code",
   "execution_count": 20,
   "id": "addea597",
   "metadata": {},
   "outputs": [
    {
     "data": {
      "image/png": "[encoded data removed]",
      "text/plain": [
       "<Figure size 216x360 with 1 Axes>"
      ]
     },
     "metadata": {
      "needs_background": "light"
     },
     "output_type": "display_data"
    }
   ],
   "source": [
    "label_countplot(df,\"landing_page\",perc=True) # labelled countplot for \"landing_page\""
   ]
  },
  {
   "cell_type": "markdown",
   "id": "37ae67ef",
   "metadata": {},
   "source": [
    "#### Observation:\n",
    "\n",
    "* The countplot shows 50% of users are using old_landing page and 50% of users are using new_landing page. "
   ]
  },
  {
   "cell_type": "code",
   "execution_count": 21,
   "id": "3f41a901",
   "metadata": {
    "scrolled": true
   },
   "outputs": [
    {
     "data": {
      "image/png": "[encoded data removed]",
      "text/plain": [
       "<Figure size 288x360 with 1 Axes>"
      ]
     },
     "metadata": {
      "needs_background": "light"
     },
     "output_type": "display_data"
    }
   ],
   "source": [
    "label_countplot(df,\"language_preferred\",perc=True) # labelled countplot for \"language_prefered\""
   ]
  },
  {
   "cell_type": "markdown",
   "id": "12f709db",
   "metadata": {},
   "source": [
    "#### Observation:\n",
    "\n",
    "* The countplot shows the language_preference of 32% of users is English, 34% of users is French and 34% of users is Spanish. "
   ]
  },
  {
   "cell_type": "code",
   "execution_count": 22,
   "id": "895d466c",
   "metadata": {
    "scrolled": true
   },
   "outputs": [
    {
     "data": {
      "text/plain": [
       "<AxesSubplot:xlabel='language_preferred', ylabel='user_id'>"
      ]
     },
     "execution_count": 22,
     "metadata": {},
     "output_type": "execute_result"
    },
    {
     "data": {
      "image/png": "[encoded data removed]",
      "text/plain": [
       "<Figure size 720x360 with 1 Axes>"
      ]
     },
     "metadata": {
      "needs_background": "light"
     },
     "output_type": "display_data"
    }
   ],
   "source": [
    "plt.figure(figsize=(10,5)),\n",
    "sns.stripplot(data=df, y=\"user_id\",x=\"language_preferred\", palette=\"nipy_spectral\")#Scatterplot for \"user_id\" columns,"
   ]
  },
  {
   "cell_type": "markdown",
   "id": "a3c7b024",
   "metadata": {},
   "source": [
    "#### Observations:\n",
    "\n",
    "* The stripplot of user_id shows the spread of users among different language.\n"
   ]
  },
  {
   "cell_type": "code",
   "execution_count": 23,
   "id": "a7472067",
   "metadata": {
    "scrolled": true
   },
   "outputs": [
    {
     "data": {
      "text/plain": [
       "<matplotlib.lines.Line2D at 0xeee551bdf0>"
      ]
     },
     "execution_count": 23,
     "metadata": {},
     "output_type": "execute_result"
    },
    {
     "data": {
      "image/png": "[encoded data removed]",
      "text/plain": [
       "<Figure size 432x288 with 1 Axes>"
      ]
     },
     "metadata": {
      "needs_background": "light"
     },
     "output_type": "display_data"
    }
   ],
   "source": [
    "# find the distribution of column \"time_spent_on_the_page\" using distplot for overall data. \n",
    "sns.distplot(x=df[\"time_spent_on_the_page\"],kde=True, color=\"c\")\n",
    "plt.axvline(df[\"time_spent_on_the_page\"].mean(), color=\"red\") # plot mean\n",
    "plt.axvline(df[\"time_spent_on_the_page\"].median(), color=\"blue\")  # plot median\n",
    "plt.axvline(df[\"time_spent_on_the_page\"].std(), color=\"green\") # plot std.\n",
    "plt.axvline(df[\"time_spent_on_the_page\"].mode()[0], color=\"yellow\") # plot yellow\n"
   ]
  },
  {
   "cell_type": "markdown",
   "id": "608c78ea",
   "metadata": {},
   "source": [
    "#### Observation:\n",
    "\n",
    "* The distplot of time variable for overall data shows that  it follows a normal distribution. \n",
    "* Mean and Median is same, lies between 5 and 6.\n",
    "* Standard deviation is around 2.5 mins\n",
    "* Mode lies between 0 and 1"
   ]
  },
  {
   "cell_type": "markdown",
   "id": "c65030c2",
   "metadata": {},
   "source": [
    "### Time Distribution of \"Control\" Group"
   ]
  },
  {
   "cell_type": "code",
   "execution_count": 24,
   "id": "74eaeb65",
   "metadata": {
    "scrolled": true
   },
   "outputs": [
    {
     "data": {
      "text/plain": [
       "<matplotlib.lines.Line2D at 0xeee7596940>"
      ]
     },
     "execution_count": 24,
     "metadata": {},
     "output_type": "execute_result"
    },
    {
     "data": {
      "image/png": "[encoded data removed]",
      "text/plain": [
       "<Figure size 432x288 with 1 Axes>"
      ]
     },
     "metadata": {
      "needs_background": "light"
     },
     "output_type": "display_data"
    }
   ],
   "source": [
    "df_control=df.copy() # copy current dataframe to new dataframe called df_control\n",
    "df_control=df_control.set_index(\"group\") # changing the group column as index\n",
    "df_control_time=df_control.drop(labels=\"treatment\",axis=0) # drop the treatment group  rows as we need only the control group. \n",
    "df_control_time.head() # check the removal of treatment group using head()\n",
    "\n",
    "sns.distplot(df_control_time[\"time_spent_on_the_page\"],kde=True, color=\"c\")\n",
    "plt.axvline(df_control_time[\"time_spent_on_the_page\"].mean(), color=\"red\") # plot mean\n",
    "plt.axvline(df_control_time[\"time_spent_on_the_page\"].median(), color=\"blue\")  # plot median\n",
    "plt.axvline(df_control_time[\"time_spent_on_the_page\"].std(), color=\"green\") # plot std.\n",
    "plt.axvline(df_control_time[\"time_spent_on_the_page\"].mode()[0], color=\"yellow\") # plot yellow\n"
   ]
  },
  {
   "cell_type": "markdown",
   "id": "3fb0cba4",
   "metadata": {},
   "source": [
    "#### Observations:\n",
    "\n",
    "* Time distribution of \"control\" group follows normal distribution. \n",
    "* Mean and median is nearly same which is around 4.8 mins. "
   ]
  },
  {
   "cell_type": "markdown",
   "id": "2d6c17b7",
   "metadata": {},
   "source": [
    "### Time Distribution of \"Treatment\" group. "
   ]
  },
  {
   "cell_type": "code",
   "execution_count": 25,
   "id": "c15d4dc2",
   "metadata": {},
   "outputs": [
    {
     "data": {
      "text/plain": [
       "<AxesSubplot:xlabel='time_spent_on_the_page', ylabel='Density'>"
      ]
     },
     "execution_count": 25,
     "metadata": {},
     "output_type": "execute_result"
    },
    {
     "data": {
      "image/png": "[encoded data removed]",
      "text/plain": [
       "<Figure size 432x288 with 1 Axes>"
      ]
     },
     "metadata": {
      "needs_background": "light"
     },
     "output_type": "display_data"
    }
   ],
   "source": [
    "df_treatment=df.copy() # copy current dataframe to new dataframe called df_treatment\n",
    "df_treatment=df_treatment.set_index(\"group\") # changing the group column as index\n",
    "df_treatment_time=df_treatment.drop(labels=\"control\",axis=0) # drop the control group  rows as we need only the control group. \n",
    "df_treatment_time.head() # check the removal of control group using head()\n",
    "plt.axvline(df_treatment_time[\"time_spent_on_the_page\"].mean(), color=\"red\") # plot mean\n",
    "plt.axvline(df_treatment_time[\"time_spent_on_the_page\"].median(), color=\"blue\")  # plot median\n",
    "plt.axvline(df_treatment_time[\"time_spent_on_the_page\"].std(), color=\"green\") # plot std.\n",
    "plt.axvline(df_treatment_time[\"time_spent_on_the_page\"].mode()[0], color=\"yellow\") # plot yellow\n",
    "\n",
    "\n",
    "sns.distplot(df_treatment_time[\"time_spent_on_the_page\"],kde=True, color=\"c\")"
   ]
  },
  {
   "cell_type": "markdown",
   "id": "847bbe07",
   "metadata": {},
   "source": [
    "#### Observations:\n",
    "\n",
    "* Time distribution of \"Treatment\" group follows perfect normal distribution. \n",
    "* Mean, median and mode is almost equal which is around 6 mins. "
   ]
  },
  {
   "cell_type": "code",
   "execution_count": 26,
   "id": "21e44d47",
   "metadata": {},
   "outputs": [],
   "source": [
    "def histogram_boxplot(data, feature, figsize=(10, 5), kde=False, bins=None):\n",
    "    \"\"\"\n",
    "    Boxplot and histogram combined\n",
    "\n",
    "    data: dataframe\n",
    "    feature: dataframe column\n",
    "    figsize: size of figure (default (12,7))\n",
    "    kde: whether to show the density curve (default False)\n",
    "    bins: number of bins for histogram (default None)\n",
    "    \"\"\"\n",
    "    f2, (ax_box2, ax_hist2) = plt.subplots(\n",
    "        nrows=2,  # Number of rows of the subplot grid= 2\n",
    "        sharex=True,  # x-axis will be shared among all subplots\n",
    "        gridspec_kw={\"height_ratios\": (0.25, 0.75)},\n",
    "        figsize=figsize,\n",
    "    )  # creating the 2 subplots\n",
    "    sns.boxplot(\n",
    "        data=data, x=feature, ax=ax_box2, showmeans=True, color=\"c\"\n",
    "    )  # boxplot will be created and a star will indicate the mean value of the column\n",
    "    sns.histplot(\n",
    "        data=data, x=feature, kde=kde, ax=ax_hist2, bins=bins, palette=\"nipy_spectral\"\n",
    "    ) if bins else sns.histplot(\n",
    "        data=data, x=feature, kde=kde, ax=ax_hist2\n",
    "    )  # For histogram\n",
    "    ax_hist2.axvline(\n",
    "        data[feature].mean(), color=\"green\", linestyle=\"--\"\n",
    "    )  # Add mean to the histogram\n",
    "    ax_hist2.axvline(\n",
    "        data[feature].median(), color=\"black\", linestyle=\"-\"\n",
    "    )  # Add median to the histogram"
   ]
  },
  {
   "cell_type": "code",
   "execution_count": 27,
   "id": "b914a761",
   "metadata": {},
   "outputs": [
    {
     "data": {
      "image/png": "[encoded data removed]",
      "text/plain": [
       "<Figure size 720x360 with 2 Axes>"
      ]
     },
     "metadata": {
      "needs_background": "light"
     },
     "output_type": "display_data"
    }
   ],
   "source": [
    "histogram_boxplot(df, \"user_id\") # hist_boxplot for \"user_id\""
   ]
  },
  {
   "cell_type": "markdown",
   "id": "064e0ae1",
   "metadata": {},
   "source": [
    "#### Observation:\n",
    "\n",
    "* The histogram_boxplot of user_id shows there is no skewness or outliers in the data. "
   ]
  },
  {
   "cell_type": "code",
   "execution_count": 28,
   "id": "f7128c4e",
   "metadata": {
    "scrolled": true
   },
   "outputs": [
    {
     "data": {
      "image/png": "[encoded data removed]",
      "text/plain": [
       "<Figure size 720x360 with 2 Axes>"
      ]
     },
     "metadata": {
      "needs_background": "light"
     },
     "output_type": "display_data"
    }
   ],
   "source": [
    "histogram_boxplot(df,\"time_spent_on_the_page\") # histoboxplot for time_spent_on_the_page"
   ]
  },
  {
   "cell_type": "markdown",
   "id": "e0479ec2",
   "metadata": {},
   "source": [
    "#### Observations:\n",
    "\n",
    "* The histogram_boxplot of the variable \"time_spent_on_the_page\" shows there is no outliers in the data.\n",
    "* mean and median are almost equal. It liest between 5 to 6 mins. "
   ]
  },
  {
   "cell_type": "markdown",
   "id": "f7ef90aa",
   "metadata": {},
   "source": [
    "### ii) Bivariate Analysis"
   ]
  },
  {
   "cell_type": "code",
   "execution_count": 29,
   "id": "7d352c82",
   "metadata": {
    "scrolled": true
   },
   "outputs": [
    {
     "data": {
      "text/plain": [
       "<AxesSubplot:xlabel='time_spent_on_the_page', ylabel='landing_page'>"
      ]
     },
     "execution_count": 29,
     "metadata": {},
     "output_type": "execute_result"
    },
    {
     "data": {
      "image/png": "[encoded data removed]",
      "text/plain": [
       "<Figure size 432x288 with 1 Axes>"
      ]
     },
     "metadata": {
      "needs_background": "light"
     },
     "output_type": "display_data"
    }
   ],
   "source": [
    "sns.boxplot(data = df,y='landing_page',x='time_spent_on_the_page', showmeans=True, hue=df['group'], palette=\"nipy_spectral\") # Bivariate Analysis using boxplot for \"landing_page\" and \"time_spent_on_the_page\""
   ]
  },
  {
   "cell_type": "markdown",
   "id": "bebbe39d",
   "metadata": {},
   "source": [
    "#### Observation:\n",
    "\n",
    "* There are few outliers on the timespent on new_landing_page\n",
    "* Mean time spent on new landing_page lies around 6 minutes\n",
    "* Mean time spent on old landing_oage lies around 4.8 mins. \n",
    "  "
   ]
  },
  {
   "cell_type": "code",
   "execution_count": 30,
   "id": "a576b0f3",
   "metadata": {
    "scrolled": true
   },
   "outputs": [
    {
     "data": {
      "text/plain": [
       "<AxesSubplot:xlabel='time_spent_on_the_page', ylabel='language_preferred'>"
      ]
     },
     "execution_count": 30,
     "metadata": {},
     "output_type": "execute_result"
    },
    {
     "data": {
      "image/png": "[encoded data removed]",
      "text/plain": [
       "<Figure size 432x288 with 1 Axes>"
      ]
     },
     "metadata": {
      "needs_background": "light"
     },
     "output_type": "display_data"
    }
   ],
   "source": [
    "sns.boxplot(data = df,y='language_preferred',x='time_spent_on_the_page', showmeans=True, hue=df['group'], palette=\"nipy_spectral\") # Bivariate Analysis for \"language_preferred\" and \"time_spent_on_the_page\" using boxplot"
   ]
  },
  {
   "cell_type": "markdown",
   "id": "44dcd330",
   "metadata": {},
   "source": [
    "#### Observations:\n",
    " \n",
    "* There is no outlier in the time who prefers English\n",
    "* There are few outliers in the time spent on page who prefers French and Spanish. \n",
    "* Mean time spent by treatment group is more than control group for all the language users. "
   ]
  },
  {
   "cell_type": "code",
   "execution_count": 31,
   "id": "fb961e9c",
   "metadata": {
    "scrolled": true
   },
   "outputs": [
    {
     "data": {
      "text/plain": [
       "<AxesSubplot:xlabel='time_spent_on_the_page', ylabel='converted'>"
      ]
     },
     "execution_count": 31,
     "metadata": {},
     "output_type": "execute_result"
    },
    {
     "data": {
      "image/png": "[encoded data removed]",
      "text/plain": [
       "<Figure size 432x288 with 1 Axes>"
      ]
     },
     "metadata": {
      "needs_background": "light"
     },
     "output_type": "display_data"
    }
   ],
   "source": [
    "sns.boxplot(data = df,y='converted',x='time_spent_on_the_page', orient=\"h\", showmeans=True, hue=df['group'], palette=\"nipy_spectral\") # bivariate analysis using boxplot for \"group\" and \"time_spent_on_the_page\" with hue \"converted\""
   ]
  },
  {
   "cell_type": "markdown",
   "id": "e3a21c24",
   "metadata": {},
   "source": [
    "#### Observations:\n",
    "\n",
    "* There are few outliers on the time spent on page for the converted status with \"yes\" and also for converted status with    \"no\".\n",
    "* The mean time spent by both the groups with converted status \"yes\" is high compare to the mean time spent by the users whose covnerted status is \"no\". "
   ]
  },
  {
   "cell_type": "code",
   "execution_count": 32,
   "id": "2c074bfd",
   "metadata": {
    "scrolled": true
   },
   "outputs": [
    {
     "data": {
      "text/plain": [
       "<AxesSubplot:xlabel='time_spent_on_the_page', ylabel='group'>"
      ]
     },
     "execution_count": 32,
     "metadata": {},
     "output_type": "execute_result"
    },
    {
     "data": {
      "image/png": "[encoded data removed]",
      "text/plain": [
       "<Figure size 432x288 with 1 Axes>"
      ]
     },
     "metadata": {
      "needs_background": "light"
     },
     "output_type": "display_data"
    }
   ],
   "source": [
    "sns.boxplot(data=df, x=\"time_spent_on_the_page\", y=\"group\", hue=\"language_preferred\",orient=\"h\",showmeans=True, palette=\"nipy_spectral\")"
   ]
  },
  {
   "cell_type": "markdown",
   "id": "91f28d5a",
   "metadata": {},
   "source": [
    "#### Observations:\n",
    "\n",
    "* The mean time spent by treatment group for all the language users is more than the control group.\n",
    "* There are few outliers in the treatment group who prefers French and Spanish languages. \n",
    "* There is an outlier in the control group who prefers Spanish. \n",
    "\n"
   ]
  },
  {
   "cell_type": "markdown",
   "id": "06ab61c3",
   "metadata": {},
   "source": [
    "### iii) Multivariate Analysis"
   ]
  },
  {
   "cell_type": "code",
   "execution_count": 33,
   "id": "6423d0a1",
   "metadata": {},
   "outputs": [
    {
     "data": {
      "text/plain": [
       "<seaborn.axisgrid.PairGrid at 0xeee7996a00>"
      ]
     },
     "execution_count": 33,
     "metadata": {},
     "output_type": "execute_result"
    },
    {
     "data": {
      "text/plain": [
       "<Figure size 720x504 with 0 Axes>"
      ]
     },
     "metadata": {},
     "output_type": "display_data"
    },
    {
     "data": {
      "image/png": "[encoded data removed]",
      "text/plain": [
       "<Figure size 418.375x360 with 6 Axes>"
      ]
     },
     "metadata": {
      "needs_background": "light"
     },
     "output_type": "display_data"
    }
   ],
   "source": [
    "plt.figure(figsize=(10,7))\n",
    "sns.pairplot(df, hue=\"converted\", kind=\"reg\", palette=\"nipy_spectral\") # multivariate analysis using pairplots"
   ]
  },
  {
   "cell_type": "markdown",
   "id": "1a4e75fa",
   "metadata": {},
   "source": [
    "#### Observation:\n",
    "\n",
    "* Time spent by the different users whose converted status is \"yes\" is more than the converted status with \"no\"."
   ]
  },
  {
   "cell_type": "code",
   "execution_count": 34,
   "id": "8ac9b6f1",
   "metadata": {},
   "outputs": [
    {
     "data": {
      "image/png": "[encoded data removed]",
      "text/plain": [
       "<Figure size 432x288 with 2 Axes>"
      ]
     },
     "metadata": {
      "needs_background": "light"
     },
     "output_type": "display_data"
    }
   ],
   "source": [
    "df_heatmap = df.pivot_table(values='time_spent_on_the_page',index='landing_page',columns='converted',aggfunc=np.mean) # creatng pivot_table to use heat map on catagorical variable\n",
    "sns.heatmap(df_heatmap,annot=True, cmap=\"nipy_spectral\") # heat_map to know the relationship between time, converted status and landing_page \n",
    "plt.show()"
   ]
  },
  {
   "cell_type": "markdown",
   "id": "73d9b26b",
   "metadata": {},
   "source": [
    "#### Observations:\n",
    "\n",
    "* The mean time spent on new landing page with converted status \"yes\" is 6.9 mins which is higher than the mean time spent on old_landing_page with status \"yes\"  which is 6.2 minutes.\n",
    "\n",
    "* The mean time spent on old landing page with converted status \"no\" is 4.9 mins which is higher than the mean time spent on old_landing_page with status \"no\"  which is 3.3 minutes. \n",
    "\n",
    "* Users are spending more time on the new_landing_page than the old_landing_page. \n"
   ]
  },
  {
   "cell_type": "markdown",
   "id": "9b5dcbfd",
   "metadata": {},
   "source": [
    "# 2. Do the user spend more time on the new landing Page than the old landing page? "
   ]
  },
  {
   "cell_type": "markdown",
   "id": "cfe0b6b4",
   "metadata": {},
   "source": [
    "## Step 1. Visual analysis of the required variables"
   ]
  },
  {
   "cell_type": "code",
   "execution_count": 35,
   "id": "092e8a7e",
   "metadata": {
    "scrolled": true
   },
   "outputs": [
    {
     "data": {
      "image/png": "[encoded data removed]",
      "text/plain": [
       "<Figure size 576x288 with 1 Axes>"
      ]
     },
     "metadata": {
      "needs_background": "light"
     },
     "output_type": "display_data"
    }
   ],
   "source": [
    "# Visual analysis of the distribution of 'landing_page' column\n",
    "plt.figure(figsize=(8,4))\n",
    "sns.boxplot(y=\"time_spent_on_the_page\",orient=\"v\", x=\"landing_page\", data = df, showmeans= True, palette=\"nipy_spectral\")\n",
    "plt.grid()"
   ]
  },
  {
   "cell_type": "markdown",
   "id": "a6474b25",
   "metadata": {},
   "source": [
    "#### Observations:\n",
    "\n",
    "* There are few outliers in the data of new landing page. \n",
    "* Mean time spent by the users on new landing page is high compare to the mean time spent on old landing page. \n",
    "* 50% of users of new_landing_page spending 6 mins on the page. \n",
    "* 50% of users of old_landing page spending around 4.5 mins on the page. \n"
   ]
  },
  {
   "cell_type": "markdown",
   "id": "67d18b72",
   "metadata": {},
   "source": [
    "## Step 2: Calculation of required data to identify the suitable test. "
   ]
  },
  {
   "cell_type": "code",
   "execution_count": 36,
   "id": "f8587425",
   "metadata": {},
   "outputs": [
    {
     "name": "stdout",
     "output_type": "stream",
     "text": [
      "New landing page mean: 6.2232\n",
      "New landing page standard deviation: 1.8170310387878263\n",
      "Old landing page mean: 4.532400000000001\n",
      "Old landing page standard deviation: 2.581974849306046\n"
     ]
    }
   ],
   "source": [
    "new_landing_page_mean=df[df[\"landing_page\"]==\"new\"][\"time_spent_on_the_page\"].mean() # Mean time for new landing page\n",
    "new_landing_page_std=df[df[\"landing_page\"]==\"new\"][\"time_spent_on_the_page\"].std() # std for new landing page\n",
    "old_landing_page_mean=df[df[\"landing_page\"]==\"old\"][\"time_spent_on_the_page\"].mean() # Mean time for old landing page\n",
    "old_landing_page_std=df[df[\"landing_page\"]==\"old\"][\"time_spent_on_the_page\"].std() # std for old landing page\n",
    "\n",
    "# Printing the above results using print statement.  \n",
    "\n",
    "print(\"New landing page mean:\", new_landing_page_mean)\n",
    "print(\"New landing page standard deviation:\", new_landing_page_std)\n",
    "print(\"Old landing page mean:\", old_landing_page_mean)\n",
    "print(\"Old landing page standard deviation:\", old_landing_page_std)"
   ]
  },
  {
   "cell_type": "markdown",
   "id": "40c95ee4",
   "metadata": {},
   "source": [
    "#### Observations:\n",
    "\n",
    "* Mean time spent on new landing page is greater than the old landing page\n",
    "* Standard deviation of both the group is different from the sample"
   ]
  },
  {
   "cell_type": "markdown",
   "id": "7f339123",
   "metadata": {},
   "source": [
    "## Step 3:  Let's write the null and alternative hypothesis\n",
    "\n",
    "\n",
    "Let $\\mu_1, \\mu_2$ be the mean time spent on **new** and **old** landing page respectively.\n",
    "\n",
    "We will test the null hypothesis\n",
    "\n",
    ">$H_0:\\mu_1=\\mu_2$, Mean time spent on both the landing page is equal. \n",
    "\n",
    "against the alternate hypothesis\n",
    "\n",
    ">$H_a:\\mu_1>\\mu_2$, Mean time spent on new_landing_page is greater than the mean time spent on old_landing_page."
   ]
  },
  {
   "cell_type": "markdown",
   "id": "35f8dcf8",
   "metadata": {},
   "source": [
    "#### Observations:\n",
    "\n",
    "* From the formation of null and alternate hypothesis and question statement, it can be viewed as **one_tailed test**. "
   ]
  },
  {
   "cell_type": "markdown",
   "id": "276266fb",
   "metadata": {},
   "source": [
    "## Step 4: Select the appropriate Test\n",
    "\n",
    "* Continuous data - Yes, the Time is measured on a continuous scale.\n",
    "* Normally distributed populations - Yes, the sample size is >30. Since the sample sizes are greater than 30, Central Limit Theorem states that the distribution of sample means will be normal.\n",
    "* Independent populations - As we are taking random samples for two different groups, the two samples are from two independent populations.\n",
    "* Unequal population standard deviations - As the sample standard deviations are different, the population standard deviations may be assumed to be different.\n",
    "* Random sampling from the population - Yes, we are informed that the collected sample a simple random sample.\n",
    "\n",
    "We can use **two sample independent T-test** for this problem."
   ]
  },
  {
   "cell_type": "markdown",
   "id": "6a7aeb62",
   "metadata": {},
   "source": [
    "## Step 5: Decide the significance level\n",
    "\n",
    "As given in the problem statement, we select $\\alpha$ = 0.05."
   ]
  },
  {
   "cell_type": "markdown",
   "id": "41ecc275",
   "metadata": {},
   "source": [
    "## Step 6: Calculate the p-value\n",
    "\n",
    "**scipy.stats.ttest_ind calculates the t-test on TWO independent samples of observations when population standard deviation is not known and sample standard deviation is not equal. This function returns the test statistic and p-value for a right-tailed t-test in case the alternative parameter is set to 'greater'.**"
   ]
  },
  {
   "cell_type": "code",
   "execution_count": 37,
   "id": "6f23a7e2",
   "metadata": {
    "scrolled": true
   },
   "outputs": [
    {
     "name": "stdout",
     "output_type": "stream",
     "text": [
      "The p-value is  0.0001392381225166549\n",
      "The test_statistics is  3.7867702694199856\n"
     ]
    }
   ],
   "source": [
    "#import the required functions\n",
    "from scipy.stats import ttest_ind\n",
    "\n",
    "# find the p-value\n",
    "test_stat, p_value = ttest_ind(df[df[\"landing_page\"]==\"new\"][\"time_spent_on_the_page\"], df[df[\"landing_page\"]==\"old\"][\"time_spent_on_the_page\"], equal_var = False, alternative = 'greater') # Equal variance set to False after calculating the sample Standard Deviation of the 2 group. \n",
    "print('The p-value is ', p_value)\n",
    "print('The test_statistics is ', test_stat)"
   ]
  },
  {
   "cell_type": "markdown",
   "id": "275ab327",
   "metadata": {},
   "source": [
    "#### Observation: \n",
    "\n",
    "* p_value is <0.05"
   ]
  },
  {
   "cell_type": "markdown",
   "id": "8060ecc9",
   "metadata": {},
   "source": [
    "## Step 7: Compare the p-value with $\\alpha$"
   ]
  },
  {
   "cell_type": "code",
   "execution_count": 38,
   "id": "8e0e5642",
   "metadata": {},
   "outputs": [
    {
     "name": "stdout",
     "output_type": "stream",
     "text": [
      "As the p-value 0.0001392381225166549 is less than the level of significance. we reject the null hypothesis.\n"
     ]
    }
   ],
   "source": [
    "# print the conclusion based on p-value\n",
    "if p_value < 0.05:\n",
    "    print(f'As the p-value {p_value} is less than the level of significance. we reject the null hypothesis.')\n",
    "else:\n",
    "    print(f'As the p-value {p_value} is greater than the level of significance, we fail to reject the null hypothesis.')"
   ]
  },
  {
   "cell_type": "markdown",
   "id": "c8a5ca8b",
   "metadata": {},
   "source": [
    "## Step 8: Plotting of test_statistics value and Rejection Region. "
   ]
  },
  {
   "cell_type": "code",
   "execution_count": 39,
   "id": "258e3f8d",
   "metadata": {
    "scrolled": true
   },
   "outputs": [
    {
     "data": {
      "image/png": "[encoded data removed]",
      "text/plain": [
       "<Figure size 432x288 with 1 Axes>"
      ]
     },
     "metadata": {
      "needs_background": "light"
     },
     "output_type": "display_data"
    },
    {
     "name": "stdout",
     "output_type": "stream",
     "text": [
      "Critical_value: 1.6448536269514722\n"
     ]
    }
   ],
   "source": [
    "from scipy.stats import norm\n",
    "\n",
    "# find the critical value\n",
    "critical_val = norm.ppf(1-0.05)\n",
    "\n",
    "# plot the rejection and acceptance region\n",
    "# We are plotting the distributions here to better visualize the calculations\n",
    "x = np.linspace(-4, 4, 50) # create an array of 100 numbers starting from -4 and ending at 4\n",
    "plt.plot(x, norm.pdf(x, 0, 1)) # plot the pdf of the normal distribution\n",
    "plt.axvline(x = critical_val, c = 'r') # draw a vertical red line through the mentioned point\n",
    "x1 = np.linspace(critical_val,4,50) # create an array of 50 numbers starting from -4 and ending at the critical value\n",
    "plt.fill_between(x1, norm.pdf(x1, 0, 1), color='r')# fill the area under the curve before the critical value with red color\n",
    "plt.axvline(x = test_stat, c = 'g') # draw vertical line for test statistics in green color. \n",
    "plt.annotate('Reject Null', (2.2, 0.22)) # annotate the mentioned text at the mentioned location\n",
    "plt.annotate('  Do Not Reject\\n        Null', (-1, 0.20)) # annotate the mentioned text at the mentioned location\n",
    "plt.show() # display the plot\n",
    "print(\"Critical_value:\",critical_val)"
   ]
  },
  {
   "cell_type": "markdown",
   "id": "d9001a59",
   "metadata": {},
   "source": [
    "#### Observation:\n",
    "\n",
    "* The test_statistics falls in the rejection region. Hence, we reject null hypothesis. "
   ]
  },
  {
   "cell_type": "markdown",
   "id": "12e69eb8",
   "metadata": {},
   "source": [
    "## Step 9: Draw Inference"
   ]
  },
  {
   "cell_type": "markdown",
   "id": "a76d1619",
   "metadata": {},
   "source": [
    "As the p-value (~0.00013) is less than the level of significance, we can reject the null hypothesis. Hence, we do have enough evidence to support the claim that users spend **more time on new_landing_page than the old_landing_page**. "
   ]
  },
  {
   "cell_type": "markdown",
   "id": "c9d04ee2",
   "metadata": {},
   "source": [
    "# Question 3- Is the conversion rate (the proportion of users who visit the landing page and get converted)  for the new page is greater than the old page? "
   ]
  },
  {
   "cell_type": "markdown",
   "id": "0ae7bdff",
   "metadata": {},
   "source": [
    "## Step 1. Visual analysis of the required variables"
   ]
  },
  {
   "cell_type": "code",
   "execution_count": 40,
   "id": "3efaf403",
   "metadata": {},
   "outputs": [
    {
     "data": {
      "image/png": "[encoded data removed]",
      "text/plain": [
       "<Figure size 720x360 with 1 Axes>"
      ]
     },
     "metadata": {
      "needs_background": "light"
     },
     "output_type": "display_data"
    }
   ],
   "source": [
    "# Visual analysis of the distribution of 'landing_page' column with converted status hue.\n",
    "plt.figure(figsize=(10,5))\n",
    "sns.boxplot(y=\"time_spent_on_the_page\", x=\"landing_page\", hue=\"converted\", orient=\"v\", data = df, showmeans=True, palette=\"nipy_spectral\")\n",
    "plt.grid()"
   ]
  },
  {
   "cell_type": "markdown",
   "id": "a4c6e3c3",
   "metadata": {},
   "source": [
    "#### Observations:\n",
    "\n",
    "* There are few outliers in the data of new and old landing page for the converted status with yes and no\n",
    "* Mean time spent by the users on new landing page is high compare to the mean time spent on old landing page for both the converted status. \n",
    "* The users of new_landing_page who are spending an average of 6.8 mins on the page are ended up in subscribing the news_portal.\n",
    "* The users of new_landing_page who are spending an average of 4.8 mins on the page are not subscribing the news_portal.\n",
    "* The users of old_landing_page who are spending an average of 6.2 mins on the page are ended up in subscribing the news_portal.\n",
    "* The users of old_landing_page who are spending an average of 3 mins on the page are not subscribing the news_portal."
   ]
  },
  {
   "cell_type": "markdown",
   "id": "07ec4870",
   "metadata": {},
   "source": [
    "## Step 2: Calculation of required data to perform the suitable test. "
   ]
  },
  {
   "cell_type": "code",
   "execution_count": 41,
   "id": "fd9d4e04",
   "metadata": {},
   "outputs": [
    {
     "name": "stdout",
     "output_type": "stream",
     "text": [
      "The numbers of new and old converted are 33 and 21 respectively\n",
      "The total numbers of new and old pages are 50 and 50 respectively\n"
     ]
    }
   ],
   "source": [
    "# value count the new landing page with converted status as yes\n",
    "new_converted = df[df['landing_page']=='new'].converted.value_counts()['yes']\n",
    "# value count the old landing page with converted status as yes\n",
    "old_converted = df[df['landing_page']=='old'].converted.value_counts()['yes']\n",
    "\n",
    "print('The numbers of new and old converted are {0} and {1} respectively'.format(new_converted, old_converted))\n",
    "\n",
    "# number of new landing page in the data\n",
    "n_new = df.landing_page.value_counts()['new']\n",
    "\n",
    "# number of old landing page in the data\n",
    "n_old = df.landing_page.value_counts()['old']\n",
    "\n",
    "print('The total numbers of new and old pages are {0} and {1} respectively'.format(n_new, n_old))"
   ]
  },
  {
   "cell_type": "markdown",
   "id": "de4f38ee",
   "metadata": {},
   "source": [
    "#### Observations:\n",
    "\n",
    "* The count of converted status(yes) is higher for new page than the count of converted status(yes) of old page. \n"
   ]
  },
  {
   "cell_type": "code",
   "execution_count": 42,
   "id": "15f368c9",
   "metadata": {
    "scrolled": true
   },
   "outputs": [
    {
     "name": "stdout",
     "output_type": "stream",
     "text": [
      " The proportions of convertion in new and old pages are 0.66, 0.42 respectively\n"
     ]
    }
   ],
   "source": [
    "print(f' The proportions of convertion in new and old pages are {round(33/50,2)}, {round(21/50,2)} respectively')"
   ]
  },
  {
   "cell_type": "markdown",
   "id": "eac1d916",
   "metadata": {},
   "source": [
    "#### Observations:\n",
    "\n",
    "* The proportion of converted status to \"yes\" is higher for new page than the proportion of converted status(yes) of old page. \n"
   ]
  },
  {
   "cell_type": "markdown",
   "id": "9d6dfb4f",
   "metadata": {},
   "source": [
    "## Step 3:  Let's write the null and alternative hypothesis\n",
    "\n",
    "Let $p_1,p_2$ be the proportions of converted status with \"Yes\" for new_page and old_page respectively.\n",
    "\n",
    "We will test the null hypothesis\n",
    "\n",
    ">$H_0:p_1 =p_2$, convertion rate of both the page is equal.\n",
    "\n",
    "against the alternate hypothesis\n",
    "\n",
    ">$H_a:p_1>\\ p_2$, convertion rate of new page is greater than the old page."
   ]
  },
  {
   "cell_type": "markdown",
   "id": "0dd449f9",
   "metadata": {},
   "source": [
    "#### Observations:\n",
    "\n",
    "* From the question statement and from the formation of null and alternate hypothesis, we can say this is one_tailed test. "
   ]
  },
  {
   "cell_type": "markdown",
   "id": "79fbb509",
   "metadata": {},
   "source": [
    "## Step 4: Select the appropriate Test\n",
    "\n",
    "*   Binomally distributed population - Yes, the status is either converted or not_converted.\n",
    "*   Random sampling from the population - Yes, we are informed that the collected sample is a simple random sample.  \n",
    "*   Can the binomial distribution approximated to normal distribution - Yes. For binary data, CLT works slower than usual. The standard thing is to check whether np and n(1-p) are greater than or equal to 10. Here, n and p refer to the sample size and sample proportion respectively.\n",
    ">$np_1 = 50\\cdot \\frac{33}{50} =33 \\geq 10\\\\\n",
    "n(1-p_1) = 50 \\cdot \\frac{50-33}{50} =17 \\geq 10 \\\\\n",
    "np_2 = 50\\cdot \\frac{21}{50} =21 \\geq 10\\\\\n",
    "n(1-p_2) = 50 \\cdot \\frac{50-21}{50} =27 \\geq 10 $\n",
    "\n",
    "We can use **two sample proportion Z-test** for this problem.\n"
   ]
  },
  {
   "cell_type": "markdown",
   "id": "a99cdec2",
   "metadata": {},
   "source": [
    "## Step 5: Decide the significance level\n",
    "\n",
    "As given in the problem statement, we select $\\alpha$ = 0.05."
   ]
  },
  {
   "cell_type": "markdown",
   "id": "661ae1f1",
   "metadata": {},
   "source": [
    "## Step 6: Calculate the p_value"
   ]
  },
  {
   "cell_type": "code",
   "execution_count": 43,
   "id": "0a59870b",
   "metadata": {},
   "outputs": [
    {
     "name": "stdout",
     "output_type": "stream",
     "text": [
      "The p-value is 0.008026308204056278\n",
      "The test_stat is 2.4077170617153842\n"
     ]
    }
   ],
   "source": [
    "# find the p-value using proportion_ztest\n",
    "from statsmodels.stats.proportion import proportions_ztest\n",
    "\n",
    "\n",
    "stat, pval = proportions_ztest([new_converted, old_converted] , [n_new, n_old], alternative = 'larger')\n",
    "\n",
    "# print the p-value\n",
    "print('The p-value is '+ str(pval))\n",
    "print('The test_stat is '+ str(stat))"
   ]
  },
  {
   "cell_type": "markdown",
   "id": "c6ba5d2e",
   "metadata": {},
   "source": [
    "#### Observations:\n",
    "\n",
    "* P_value is <0.05"
   ]
  },
  {
   "cell_type": "markdown",
   "id": "64b01544",
   "metadata": {},
   "source": [
    "## Step 7: Compare the p-value with  $\\alpha$"
   ]
  },
  {
   "cell_type": "code",
   "execution_count": 44,
   "id": "2d444173",
   "metadata": {},
   "outputs": [
    {
     "name": "stdout",
     "output_type": "stream",
     "text": [
      "As the p-value 0.008026308204056278 is less than the level of significance, we reject the null hypothesis.\n"
     ]
    }
   ],
   "source": [
    "# print the conclusion based on p-value\n",
    "if pval < 0.05:\n",
    "    print(f'As the p-value {pval} is less than the level of significance, we reject the null hypothesis.')\n",
    "else:\n",
    "    print(f'As the p-value {pval} is greater than the level of significance, we fail to reject the null hypothesis.')"
   ]
  },
  {
   "cell_type": "markdown",
   "id": "cf683293",
   "metadata": {},
   "source": [
    "## Step 8: Visual Representation"
   ]
  },
  {
   "cell_type": "code",
   "execution_count": 45,
   "id": "5bae71af",
   "metadata": {
    "scrolled": false
   },
   "outputs": [
    {
     "data": {
      "image/png": "[encoded data removed]",
      "text/plain": [
       "<Figure size 432x288 with 1 Axes>"
      ]
     },
     "metadata": {
      "needs_background": "light"
     },
     "output_type": "display_data"
    },
    {
     "name": "stdout",
     "output_type": "stream",
     "text": [
      "Critical_value: 1.6448536269514722\n"
     ]
    }
   ],
   "source": [
    "from scipy.stats import norm\n",
    "\n",
    "# find the critical value\n",
    "critical_val = norm.ppf(1-0.05)\n",
    "\n",
    "# plot the rejection and acceptance region\n",
    "# We are plotting the distributions here to better visualize the calculations\n",
    "x = np.linspace(-4, 4, 50) # create an array of 100 numbers starting from -4 and ending at 4\n",
    "plt.plot(x, norm.pdf(x, 0, 1)) # plot the pdf of the normal distribution\n",
    "plt.axvline(x = critical_val, c = 'r') # draw a vertical red line through the mentioned point\n",
    "x1 = np.linspace(critical_val,4,50) # create an array of 50 numbers starting from -4 and ending at the critical value\n",
    "plt.fill_between(x1, norm.pdf(x1, 0, 1), color='r') # fill the rejection region with red color\n",
    "plt.axvline(x = stat, c = 'g')# draw vertical green line for test statistics\n",
    "plt.annotate('Reject Null', (2.7, 0.23)) # annotate the mentioned text at the mentioned location\n",
    "plt.annotate('  Do Not Reject\\n        Null', (-1, 0.20)) # annotate the mentioned text at the mentioned location\n",
    "plt.show() # display the plot\n",
    "print(\"Critical_value:\",critical_val)"
   ]
  },
  {
   "cell_type": "markdown",
   "id": "b2b36f9b",
   "metadata": {},
   "source": [
    "#### Observation:\n",
    "\n",
    "* The test_statistics falls in the rejection region. Hence, we reject null hypothesis. "
   ]
  },
  {
   "cell_type": "markdown",
   "id": "70490ac4",
   "metadata": {},
   "source": [
    "## Step 9: Draw Inference"
   ]
  },
  {
   "cell_type": "markdown",
   "id": "fab1f1c6",
   "metadata": {},
   "source": [
    "Since, the p_value is less than 0.05, we Reject Null Hypothesis. Hence, we have enough evidence to say the conversion rate for new page is greater than the old page. "
   ]
  },
  {
   "cell_type": "markdown",
   "id": "6a0a7f1f",
   "metadata": {},
   "source": [
    "# Question 4: Converted Status depend on the preferred language?"
   ]
  },
  {
   "cell_type": "markdown",
   "id": "e957c4a9",
   "metadata": {},
   "source": [
    "## Step 1. Visual analysis of the required variables"
   ]
  },
  {
   "cell_type": "code",
   "execution_count": 46,
   "id": "e62d6d97",
   "metadata": {},
   "outputs": [
    {
     "data": {
      "image/png": "[encoded data removed]",
      "text/plain": [
       "<Figure size 720x360 with 1 Axes>"
      ]
     },
     "metadata": {
      "needs_background": "light"
     },
     "output_type": "display_data"
    }
   ],
   "source": [
    "# Visual analysis of the distribution of 'landing_page' column\n",
    "plt.figure(figsize=(10,5))\n",
    "sns.boxplot(y=\"time_spent_on_the_page\", x=\"language_preferred\", hue=\"converted\",orient=\"v\", palette=\"nipy_spectral\",data = df, showmeans=True)\n",
    "plt.grid()\n"
   ]
  },
  {
   "cell_type": "markdown",
   "id": "c5fe84d7",
   "metadata": {},
   "source": [
    "#### Observations:\n",
    "\n",
    "* There are few outliers in the data of English and Spanish preferred language users. \n",
    "* Mean time spent by the users and who get converted to \"yes\" is higher than the users whose converted status is \"no\" for all the three languages. \n",
    "* The mean time of French preferred users  is little high compared to other language preferred users, where the converted status is \"yes\". \n",
    "* The mean time of spanish preferred users is high compare to other language preferred users, where the converted status is \"no\". \n",
    "* The mean and medien of all the the language users for both the converted status is almost equal except Spanish with converted status \"no\". "
   ]
  },
  {
   "cell_type": "markdown",
   "id": "03c43205",
   "metadata": {},
   "source": [
    "## Step 2: Define null and alternative hypotheses"
   ]
  },
  {
   "cell_type": "markdown",
   "id": "a24c54b6",
   "metadata": {},
   "source": [
    "$H_0:$ Converted Status is independent of the preferred language. \n",
    "\n",
    "$H_a:$ Converted Status is NOT independent of language_preferred. "
   ]
  },
  {
   "cell_type": "markdown",
   "id": "9ff6d05b",
   "metadata": {},
   "source": [
    "## Step 3: Select Appropriate test"
   ]
  },
  {
   "cell_type": "markdown",
   "id": "c36a5f4a",
   "metadata": {},
   "source": [
    "The formulated hypotheses can be tested using a **Chi-square test of independence** of attributes, concerning the two categorical variables, converted status (yes/no) and language preference (English/French/Spanish)."
   ]
  },
  {
   "cell_type": "markdown",
   "id": "569434f9",
   "metadata": {},
   "source": [
    "## Step 4: Decide the significance level"
   ]
  },
  {
   "cell_type": "markdown",
   "id": "53d8a861",
   "metadata": {},
   "source": [
    "As given in the problem statement, we select $\\alpha$ = 0.05."
   ]
  },
  {
   "cell_type": "markdown",
   "id": "1e8007ae",
   "metadata": {},
   "source": [
    "## Step 5: Calculation of required data to perform the suitable test. "
   ]
  },
  {
   "cell_type": "code",
   "execution_count": 47,
   "id": "4e917d8c",
   "metadata": {
    "scrolled": true
   },
   "outputs": [
    {
     "data": {
      "text/html": [
       "<div>\n",
       "<style scoped>\n",
       "    .dataframe tbody tr th:only-of-type {\n",
       "        vertical-align: middle;\n",
       "    }\n",
       "\n",
       "    .dataframe tbody tr th {\n",
       "        vertical-align: top;\n",
       "    }\n",
       "\n",
       "    .dataframe thead th {\n",
       "        text-align: right;\n",
       "    }\n",
       "</style>\n",
       "<table border=\"1\" class=\"dataframe\">\n",
       "  <thead>\n",
       "    <tr style=\"text-align: right;\">\n",
       "      <th>language_preferred</th>\n",
       "      <th>English</th>\n",
       "      <th>French</th>\n",
       "      <th>Spanish</th>\n",
       "    </tr>\n",
       "    <tr>\n",
       "      <th>converted</th>\n",
       "      <th></th>\n",
       "      <th></th>\n",
       "      <th></th>\n",
       "    </tr>\n",
       "  </thead>\n",
       "  <tbody>\n",
       "    <tr>\n",
       "      <th>no</th>\n",
       "      <td>11</td>\n",
       "      <td>19</td>\n",
       "      <td>16</td>\n",
       "    </tr>\n",
       "    <tr>\n",
       "      <th>yes</th>\n",
       "      <td>21</td>\n",
       "      <td>15</td>\n",
       "      <td>18</td>\n",
       "    </tr>\n",
       "  </tbody>\n",
       "</table>\n",
       "</div>"
      ],
      "text/plain": [
       "language_preferred  English  French  Spanish\n",
       "converted                                   \n",
       "no                       11      19       16\n",
       "yes                      21      15       18"
      ]
     },
     "execution_count": 47,
     "metadata": {},
     "output_type": "execute_result"
    }
   ],
   "source": [
    "# import the chi2_contigency library from stats\n",
    "\n",
    "from   scipy.stats import chi2_contingency \n",
    "\n",
    "# Create the contigency table\n",
    "cont_tab=pd.crosstab(df[\"converted\"],df[\"language_preferred\"])\n",
    "cont_tab"
   ]
  },
  {
   "cell_type": "markdown",
   "id": "b4709605",
   "metadata": {},
   "source": [
    "#### Observations:\n",
    "\n",
    "* For the language English the converted numbers are high compare to other language. "
   ]
  },
  {
   "cell_type": "markdown",
   "id": "78791c3f",
   "metadata": {},
   "source": [
    "## Step 6: Calculate the p-value"
   ]
  },
  {
   "cell_type": "code",
   "execution_count": 48,
   "id": "8faca594",
   "metadata": {},
   "outputs": [
    {
     "name": "stdout",
     "output_type": "stream",
     "text": [
      "The p-value is 0.21298887487543447\n",
      "Test_Statistics: 3.0930306905370837\n",
      "Degree of Freedom: 2\n"
     ]
    }
   ],
   "source": [
    "#find the p_value using Chi2_contifency function\n",
    "chi2, pval2, dof, exp_freq = chi2_contingency(cont_tab)\n",
    "# print the p-value\n",
    "print('The p-value is', pval2)\n",
    "print(\"Test_Statistics:\", chi2)\n",
    "print(\"Degree of Freedom:\", dof)"
   ]
  },
  {
   "cell_type": "markdown",
   "id": "3f628785",
   "metadata": {},
   "source": [
    "#### Observations:\n",
    "\n",
    "The P_value is greater than 0.05."
   ]
  },
  {
   "cell_type": "markdown",
   "id": "a3d78db4",
   "metadata": {
    "ExecuteTime": {
     "end_time": "2020-05-22T05:27:15.867215Z",
     "start_time": "2020-05-22T05:27:15.640821Z"
    }
   },
   "source": [
    "## Step 7: Compare the p-value with  $\\alpha$"
   ]
  },
  {
   "cell_type": "code",
   "execution_count": 49,
   "id": "27d697b5",
   "metadata": {},
   "outputs": [
    {
     "name": "stdout",
     "output_type": "stream",
     "text": [
      "As the p-value 0.21298887487543447 is greater than the level of significance, we fail to reject the null hypothesis.\n"
     ]
    }
   ],
   "source": [
    "# print the conclusion based on p-value\n",
    "if pval2 < 0.05:\n",
    "    print(f'As the p-value {pval2} is less than the level of significance, we reject the null hypothesis.')\n",
    "else:\n",
    "    print(f'As the p-value {pval2} is greater than the level of significance, we fail to reject the null hypothesis.')"
   ]
  },
  {
   "cell_type": "markdown",
   "id": "434b617f",
   "metadata": {},
   "source": [
    "## Step 8: Draw Inference"
   ]
  },
  {
   "cell_type": "markdown",
   "id": "4e7242a7",
   "metadata": {},
   "source": [
    "Since, the p_value is greater than 0.05, we cannot reject Null Hypothesis. Hence, we have don't have enough evidence to say the conversion status is not independent of preferred language. "
   ]
  },
  {
   "cell_type": "markdown",
   "id": "f547af5d",
   "metadata": {},
   "source": [
    "# Question 5: Is the mean time spent on new page is same for different preferred languages? "
   ]
  },
  {
   "cell_type": "markdown",
   "id": "abcd8f6b",
   "metadata": {},
   "source": [
    "## Step 1: Data Preparation to perform the suitable test"
   ]
  },
  {
   "cell_type": "code",
   "execution_count": 50,
   "id": "4fd5e281",
   "metadata": {
    "scrolled": true
   },
   "outputs": [
    {
     "data": {
      "text/plain": [
       "RangeIndex(start=0, stop=100, step=1)"
      ]
     },
     "execution_count": 50,
     "metadata": {},
     "output_type": "execute_result"
    }
   ],
   "source": [
    "df.index # check index"
   ]
  },
  {
   "cell_type": "markdown",
   "id": "f6002de2",
   "metadata": {},
   "source": [
    "#### Observations:\n",
    "\n",
    "* The index of this data set starts with 0 and stops at 100 with the step value 1."
   ]
  },
  {
   "cell_type": "code",
   "execution_count": 51,
   "id": "58e12d36",
   "metadata": {
    "scrolled": false
   },
   "outputs": [
    {
     "data": {
      "text/html": [
       "<div>\n",
       "<style scoped>\n",
       "    .dataframe tbody tr th:only-of-type {\n",
       "        vertical-align: middle;\n",
       "    }\n",
       "\n",
       "    .dataframe tbody tr th {\n",
       "        vertical-align: top;\n",
       "    }\n",
       "\n",
       "    .dataframe thead th {\n",
       "        text-align: right;\n",
       "    }\n",
       "</style>\n",
       "<table border=\"1\" class=\"dataframe\">\n",
       "  <thead>\n",
       "    <tr style=\"text-align: right;\">\n",
       "      <th></th>\n",
       "      <th>user_id</th>\n",
       "      <th>group</th>\n",
       "      <th>landing_page</th>\n",
       "      <th>time_spent_on_the_page</th>\n",
       "      <th>converted</th>\n",
       "      <th>language_preferred</th>\n",
       "    </tr>\n",
       "  </thead>\n",
       "  <tbody>\n",
       "    <tr>\n",
       "      <th>0</th>\n",
       "      <td>546592</td>\n",
       "      <td>control</td>\n",
       "      <td>old</td>\n",
       "      <td>3.48</td>\n",
       "      <td>no</td>\n",
       "      <td>Spanish</td>\n",
       "    </tr>\n",
       "    <tr>\n",
       "      <th>1</th>\n",
       "      <td>546468</td>\n",
       "      <td>treatment</td>\n",
       "      <td>new</td>\n",
       "      <td>7.13</td>\n",
       "      <td>yes</td>\n",
       "      <td>English</td>\n",
       "    </tr>\n",
       "    <tr>\n",
       "      <th>2</th>\n",
       "      <td>546462</td>\n",
       "      <td>treatment</td>\n",
       "      <td>new</td>\n",
       "      <td>4.40</td>\n",
       "      <td>no</td>\n",
       "      <td>Spanish</td>\n",
       "    </tr>\n",
       "    <tr>\n",
       "      <th>3</th>\n",
       "      <td>546567</td>\n",
       "      <td>control</td>\n",
       "      <td>old</td>\n",
       "      <td>3.02</td>\n",
       "      <td>no</td>\n",
       "      <td>French</td>\n",
       "    </tr>\n",
       "    <tr>\n",
       "      <th>4</th>\n",
       "      <td>546459</td>\n",
       "      <td>treatment</td>\n",
       "      <td>new</td>\n",
       "      <td>4.75</td>\n",
       "      <td>yes</td>\n",
       "      <td>Spanish</td>\n",
       "    </tr>\n",
       "  </tbody>\n",
       "</table>\n",
       "</div>"
      ],
      "text/plain": [
       "   user_id      group landing_page  time_spent_on_the_page converted  \\\n",
       "0   546592    control          old                    3.48        no   \n",
       "1   546468  treatment          new                    7.13       yes   \n",
       "2   546462  treatment          new                    4.40        no   \n",
       "3   546567    control          old                    3.02        no   \n",
       "4   546459  treatment          new                    4.75       yes   \n",
       "\n",
       "  language_preferred  \n",
       "0            Spanish  \n",
       "1            English  \n",
       "2            Spanish  \n",
       "3             French  \n",
       "4            Spanish  "
      ]
     },
     "execution_count": 51,
     "metadata": {},
     "output_type": "execute_result"
    }
   ],
   "source": [
    "df_new=df.copy() # copy current dataframe to new dataframe called df_new\n",
    "df_new.head() # check the content using head()"
   ]
  },
  {
   "cell_type": "code",
   "execution_count": 52,
   "id": "75816b0b",
   "metadata": {
    "scrolled": false
   },
   "outputs": [
    {
     "data": {
      "text/html": [
       "<div>\n",
       "<style scoped>\n",
       "    .dataframe tbody tr th:only-of-type {\n",
       "        vertical-align: middle;\n",
       "    }\n",
       "\n",
       "    .dataframe tbody tr th {\n",
       "        vertical-align: top;\n",
       "    }\n",
       "\n",
       "    .dataframe thead th {\n",
       "        text-align: right;\n",
       "    }\n",
       "</style>\n",
       "<table border=\"1\" class=\"dataframe\">\n",
       "  <thead>\n",
       "    <tr style=\"text-align: right;\">\n",
       "      <th></th>\n",
       "      <th>user_id</th>\n",
       "      <th>group</th>\n",
       "      <th>time_spent_on_the_page</th>\n",
       "      <th>converted</th>\n",
       "      <th>language_preferred</th>\n",
       "    </tr>\n",
       "    <tr>\n",
       "      <th>landing_page</th>\n",
       "      <th></th>\n",
       "      <th></th>\n",
       "      <th></th>\n",
       "      <th></th>\n",
       "      <th></th>\n",
       "    </tr>\n",
       "  </thead>\n",
       "  <tbody>\n",
       "    <tr>\n",
       "      <th>old</th>\n",
       "      <td>546592</td>\n",
       "      <td>control</td>\n",
       "      <td>3.48</td>\n",
       "      <td>no</td>\n",
       "      <td>Spanish</td>\n",
       "    </tr>\n",
       "    <tr>\n",
       "      <th>new</th>\n",
       "      <td>546468</td>\n",
       "      <td>treatment</td>\n",
       "      <td>7.13</td>\n",
       "      <td>yes</td>\n",
       "      <td>English</td>\n",
       "    </tr>\n",
       "    <tr>\n",
       "      <th>new</th>\n",
       "      <td>546462</td>\n",
       "      <td>treatment</td>\n",
       "      <td>4.40</td>\n",
       "      <td>no</td>\n",
       "      <td>Spanish</td>\n",
       "    </tr>\n",
       "    <tr>\n",
       "      <th>old</th>\n",
       "      <td>546567</td>\n",
       "      <td>control</td>\n",
       "      <td>3.02</td>\n",
       "      <td>no</td>\n",
       "      <td>French</td>\n",
       "    </tr>\n",
       "    <tr>\n",
       "      <th>new</th>\n",
       "      <td>546459</td>\n",
       "      <td>treatment</td>\n",
       "      <td>4.75</td>\n",
       "      <td>yes</td>\n",
       "      <td>Spanish</td>\n",
       "    </tr>\n",
       "  </tbody>\n",
       "</table>\n",
       "</div>"
      ],
      "text/plain": [
       "              user_id      group  time_spent_on_the_page converted  \\\n",
       "landing_page                                                         \n",
       "old            546592    control                    3.48        no   \n",
       "new            546468  treatment                    7.13       yes   \n",
       "new            546462  treatment                    4.40        no   \n",
       "old            546567    control                    3.02        no   \n",
       "new            546459  treatment                    4.75       yes   \n",
       "\n",
       "             language_preferred  \n",
       "landing_page                     \n",
       "old                     Spanish  \n",
       "new                     English  \n",
       "new                     Spanish  \n",
       "old                      French  \n",
       "new                     Spanish  "
      ]
     },
     "execution_count": 52,
     "metadata": {},
     "output_type": "execute_result"
    }
   ],
   "source": [
    "df_new=df.set_index(\"landing_page\") # changing the landing page as index\n",
    "df_new.head() # check the above operation using head()"
   ]
  },
  {
   "cell_type": "markdown",
   "id": "61935dc7",
   "metadata": {},
   "source": [
    "#### Observations:\n",
    "\n",
    "* The index of the data frame changed to landing_page with 2 catagories called \"old\" and \"new\". "
   ]
  },
  {
   "cell_type": "code",
   "execution_count": 53,
   "id": "8a42ecfb",
   "metadata": {
    "scrolled": false
   },
   "outputs": [
    {
     "data": {
      "text/html": [
       "<div>\n",
       "<style scoped>\n",
       "    .dataframe tbody tr th:only-of-type {\n",
       "        vertical-align: middle;\n",
       "    }\n",
       "\n",
       "    .dataframe tbody tr th {\n",
       "        vertical-align: top;\n",
       "    }\n",
       "\n",
       "    .dataframe thead th {\n",
       "        text-align: right;\n",
       "    }\n",
       "</style>\n",
       "<table border=\"1\" class=\"dataframe\">\n",
       "  <thead>\n",
       "    <tr style=\"text-align: right;\">\n",
       "      <th></th>\n",
       "      <th>user_id</th>\n",
       "      <th>group</th>\n",
       "      <th>time_spent_on_the_page</th>\n",
       "      <th>converted</th>\n",
       "      <th>language_preferred</th>\n",
       "    </tr>\n",
       "    <tr>\n",
       "      <th>landing_page</th>\n",
       "      <th></th>\n",
       "      <th></th>\n",
       "      <th></th>\n",
       "      <th></th>\n",
       "      <th></th>\n",
       "    </tr>\n",
       "  </thead>\n",
       "  <tbody>\n",
       "    <tr>\n",
       "      <th>new</th>\n",
       "      <td>546468</td>\n",
       "      <td>treatment</td>\n",
       "      <td>7.13</td>\n",
       "      <td>yes</td>\n",
       "      <td>English</td>\n",
       "    </tr>\n",
       "    <tr>\n",
       "      <th>new</th>\n",
       "      <td>546462</td>\n",
       "      <td>treatment</td>\n",
       "      <td>4.40</td>\n",
       "      <td>no</td>\n",
       "      <td>Spanish</td>\n",
       "    </tr>\n",
       "    <tr>\n",
       "      <th>new</th>\n",
       "      <td>546459</td>\n",
       "      <td>treatment</td>\n",
       "      <td>4.75</td>\n",
       "      <td>yes</td>\n",
       "      <td>Spanish</td>\n",
       "    </tr>\n",
       "    <tr>\n",
       "      <th>new</th>\n",
       "      <td>546448</td>\n",
       "      <td>treatment</td>\n",
       "      <td>5.25</td>\n",
       "      <td>yes</td>\n",
       "      <td>French</td>\n",
       "    </tr>\n",
       "    <tr>\n",
       "      <th>new</th>\n",
       "      <td>546461</td>\n",
       "      <td>treatment</td>\n",
       "      <td>10.71</td>\n",
       "      <td>yes</td>\n",
       "      <td>French</td>\n",
       "    </tr>\n",
       "  </tbody>\n",
       "</table>\n",
       "</div>"
      ],
      "text/plain": [
       "              user_id      group  time_spent_on_the_page converted  \\\n",
       "landing_page                                                         \n",
       "new            546468  treatment                    7.13       yes   \n",
       "new            546462  treatment                    4.40        no   \n",
       "new            546459  treatment                    4.75       yes   \n",
       "new            546448  treatment                    5.25       yes   \n",
       "new            546461  treatment                   10.71       yes   \n",
       "\n",
       "             language_preferred  \n",
       "landing_page                     \n",
       "new                     English  \n",
       "new                     Spanish  \n",
       "new                     Spanish  \n",
       "new                      French  \n",
       "new                      French  "
      ]
     },
     "execution_count": 53,
     "metadata": {},
     "output_type": "execute_result"
    }
   ],
   "source": [
    "df_new_page=df_new.drop(labels=\"old\",axis=0) # drop the old landing page rows as we need only the new landing page\n",
    "df_new_page.head() # check the removal of old landing page using head()"
   ]
  },
  {
   "cell_type": "markdown",
   "id": "ac756a4d",
   "metadata": {},
   "source": [
    "####  Observations:\n",
    "\n",
    "* Now the Data_Frame contains the rows only for new landing page in the name of df_new_page."
   ]
  },
  {
   "cell_type": "code",
   "execution_count": 54,
   "id": "a52eee01",
   "metadata": {
    "scrolled": false
   },
   "outputs": [
    {
     "data": {
      "text/plain": [
       "(50, 5)"
      ]
     },
     "execution_count": 54,
     "metadata": {},
     "output_type": "execute_result"
    }
   ],
   "source": [
    "df_new_page.shape"
   ]
  },
  {
   "cell_type": "markdown",
   "id": "94b7dc7b",
   "metadata": {},
   "source": [
    "#### Observations:\n",
    "\n",
    "* Now the data frame de_new_page has 50 rows and 5 columns"
   ]
  },
  {
   "cell_type": "markdown",
   "id": "42691aee",
   "metadata": {},
   "source": [
    "## Step 2. Visual analysis of the required variables"
   ]
  },
  {
   "cell_type": "code",
   "execution_count": 55,
   "id": "a0f57cc3",
   "metadata": {
    "scrolled": false
   },
   "outputs": [
    {
     "data": {
      "image/png": "[encoded data removed]",
      "text/plain": [
       "<Figure size 720x360 with 1 Axes>"
      ]
     },
     "metadata": {
      "needs_background": "light"
     },
     "output_type": "display_data"
    }
   ],
   "source": [
    "# Visual analysis of the 'new_landing_page'\n",
    "plt.figure(figsize=(10,5))\n",
    "sns.boxplot(y=\"time_spent_on_the_page\",x=\"language_preferred\", hue=\"converted\",palette=\"nipy_spectral\", data = df_new_page, showmeans=True)\n",
    "plt.grid()\n"
   ]
  },
  {
   "cell_type": "markdown",
   "id": "e10e42f4",
   "metadata": {},
   "source": [
    "#### Observations:\n",
    "\n",
    "* There is   no outliers in the data of new_landing_page with respect to preferred_language and converted status.  \n",
    "* Mean time spent by the users and who get converted to \"yes\" is higher than the users whose converted status is \"no\" for all the three languages. \n",
    "* The mean time of English preferred users  is little high compared to other language preferred users where the converted status is \"yes\" for new_landing_page. \n",
    "* The mean time of English preferred users is quite high compare to other language preferred users, where the converted status is \"no\" for new_landing_page users. \n",
    "* The mean and medien time spent on the new page for Spanish language users is almost same. For other two languages, mean and medien varies except for english preferred users with converted status \"yes\".  "
   ]
  },
  {
   "cell_type": "code",
   "execution_count": 56,
   "id": "c9ef25f1",
   "metadata": {
    "scrolled": true
   },
   "outputs": [
    {
     "data": {
      "text/plain": [
       "French     17\n",
       "Spanish    17\n",
       "English    16\n",
       "Name: language_preferred, dtype: int64"
      ]
     },
     "execution_count": 56,
     "metadata": {},
     "output_type": "execute_result"
    }
   ],
   "source": [
    "df_new_page.language_preferred.value_counts() # value counts for language preferred"
   ]
  },
  {
   "cell_type": "markdown",
   "id": "c2208b77",
   "metadata": {},
   "source": [
    "## Step 3: Define null and alternate hypotheses"
   ]
  },
  {
   "cell_type": "markdown",
   "id": "264a3018",
   "metadata": {},
   "source": [
    "$H_0$ : The mean time spent on new page for each language user is equal.\n",
    "\n",
    "$H_a$ : At least one of the mean for new_page with respect to the language category is different."
   ]
  },
  {
   "cell_type": "markdown",
   "id": "36394073",
   "metadata": {},
   "source": [
    "## Step 4: Select Appropriate test"
   ]
  },
  {
   "cell_type": "markdown",
   "id": "5c8a5144",
   "metadata": {},
   "source": [
    "This is a problem, concerning three population means. **One-way ANOVA** could be the appropriate test here provided normality and equality of variance assumptions will be verified.\n",
    "\n",
    "* For testing of normality, Shapiro-Wilk’s test is applied to the response variable.\n",
    "\n",
    "* For equality of variance, Levene test is applied to the response variable."
   ]
  },
  {
   "cell_type": "markdown",
   "id": "5fd48ed5",
   "metadata": {},
   "source": [
    "## Step 5: Shapiro_wilk's test for testing the normality"
   ]
  },
  {
   "cell_type": "markdown",
   "id": "7100a649",
   "metadata": {},
   "source": [
    "### Shapiro-Wilk’s test\n",
    "\n",
    "We will test the null hypothesis\n",
    "\n",
    ">$H_0:$ The time_spent_on_the_page follow a normal distribution\n",
    "\n",
    "against the alternative hypothesis\n",
    "\n",
    ">$H_a:$ The time_spent_on_the_page do not not follow a normal distribution"
   ]
  },
  {
   "cell_type": "markdown",
   "id": "4a086965",
   "metadata": {},
   "source": [
    "### Level of Significance "
   ]
  },
  {
   "cell_type": "markdown",
   "id": "3843d685",
   "metadata": {},
   "source": [
    "We select $\\alpha$ = 0.05."
   ]
  },
  {
   "cell_type": "markdown",
   "id": "decd4b69",
   "metadata": {},
   "source": [
    "### Find the p_value"
   ]
  },
  {
   "cell_type": "code",
   "execution_count": 57,
   "id": "d8f724e4",
   "metadata": {},
   "outputs": [
    {
     "name": "stdout",
     "output_type": "stream",
     "text": [
      "The p-value is: 0.8040016293525696\n"
     ]
    }
   ],
   "source": [
    "w, p_value = stats.shapiro(df_new_page['time_spent_on_the_page']) # perform Shapiro Test for checking the normality of the data\n",
    "print('The p-value is:', p_value)"
   ]
  },
  {
   "cell_type": "markdown",
   "id": "2e384fde",
   "metadata": {},
   "source": [
    "### Draw Inference"
   ]
  },
  {
   "cell_type": "markdown",
   "id": "09313ab3",
   "metadata": {},
   "source": [
    "Since p-value of the test is very large than the 5% significance level, we fail to reject the null hypothesis that the response follows the normal distribution."
   ]
  },
  {
   "cell_type": "markdown",
   "id": "7334b01c",
   "metadata": {},
   "source": [
    "## Step 6: Levene's test for Population variance: "
   ]
  },
  {
   "cell_type": "markdown",
   "id": "c1f2d371",
   "metadata": {},
   "source": [
    "### Levene’s test\n",
    "\n",
    "We will test the null hypothesis\n",
    "\n",
    ">$H_0$: All the population variances are equal\n",
    "\n",
    "against the alternative hypothesis\n",
    "\n",
    ">$H_a$: At least one variance is different from the rest"
   ]
  },
  {
   "cell_type": "markdown",
   "id": "4e79b651",
   "metadata": {},
   "source": [
    "### Level of Significance "
   ]
  },
  {
   "cell_type": "markdown",
   "id": "e150fa87",
   "metadata": {},
   "source": [
    "We select $\\alpha$ = 0.05."
   ]
  },
  {
   "cell_type": "markdown",
   "id": "d1fdd9e7",
   "metadata": {},
   "source": [
    "### Find the p_value"
   ]
  },
  {
   "cell_type": "code",
   "execution_count": 58,
   "id": "c2fdd629",
   "metadata": {
    "scrolled": true
   },
   "outputs": [
    {
     "name": "stdout",
     "output_type": "stream",
     "text": [
      "The p-value is 0.46711357711340173\n"
     ]
    }
   ],
   "source": [
    "statistic, p_value = stats.levene(df_new_page[df_new_page['language_preferred']=='French']['time_spent_on_the_page'],\n",
    "                            df_new_page[df_new_page['language_preferred']=='Spanish']['time_spent_on_the_page'],\n",
    "                            df_new_page[df_new_page['language_preferred']=='English']['time_spent_on_the_page']) # perform levene's test for checking the equality of variance\n",
    "print('The p-value is', p_value) "
   ]
  },
  {
   "cell_type": "markdown",
   "id": "2b0f1d59",
   "metadata": {},
   "source": [
    "### Draw Inference"
   ]
  },
  {
   "cell_type": "markdown",
   "id": "b9a66cea",
   "metadata": {},
   "source": [
    "Since the p-value is large than the 5% significance level, we fail to reject the null hypothesis of homogeneity of variances."
   ]
  },
  {
   "cell_type": "markdown",
   "id": "8f3091d9",
   "metadata": {},
   "source": [
    "## Step 7: Decide the significance level for ANOVA"
   ]
  },
  {
   "cell_type": "markdown",
   "id": "dc24d169",
   "metadata": {},
   "source": [
    "As given in the problem statement, we select α = 0.05."
   ]
  },
  {
   "cell_type": "markdown",
   "id": "62d3ebdd",
   "metadata": {},
   "source": [
    "## Step 8: Calculate the p_value"
   ]
  },
  {
   "cell_type": "code",
   "execution_count": 59,
   "id": "270deed2",
   "metadata": {},
   "outputs": [],
   "source": [
    "# finding the time spent by difference language preference \n",
    "\n",
    "Time_French = df_new_page[df_new_page['language_preferred']=='French']['time_spent_on_the_page'] \n",
    "Time_Spanish = df_new_page[df_new_page['language_preferred']=='Spanish']['time_spent_on_the_page']\n",
    "Time_English = df_new_page[df_new_page['language_preferred']=='English']['time_spent_on_the_page']"
   ]
  },
  {
   "cell_type": "code",
   "execution_count": 60,
   "id": "95447834",
   "metadata": {},
   "outputs": [
    {
     "name": "stdout",
     "output_type": "stream",
     "text": [
      "The p-value is  0.43204138694325955\n",
      "Test_statistics: 0.8543992770006823\n"
     ]
    }
   ],
   "source": [
    "# Finding and printing the P-Value\n",
    "\n",
    "test_stat_annova, pvalue = stats.f_oneway(Time_French, Time_Spanish, Time_English) # Anova for equality of variance. \n",
    "print('The p-value is ', pvalue)\n",
    "print(\"Test_statistics:\",test_stat_annova)"
   ]
  },
  {
   "cell_type": "markdown",
   "id": "224afc21",
   "metadata": {},
   "source": [
    "#### Observations:\n",
    "\n",
    "p_value is greater than 0.05."
   ]
  },
  {
   "cell_type": "markdown",
   "id": "8254795a",
   "metadata": {},
   "source": [
    "## Step 9: Compare the p-value with $\\alpha$"
   ]
  },
  {
   "cell_type": "code",
   "execution_count": 61,
   "id": "7792ed44",
   "metadata": {},
   "outputs": [
    {
     "name": "stdout",
     "output_type": "stream",
     "text": [
      "As the p-value 0.43204138694325955 is greater than the level of significance, we fail to reject the null hypothesis.\n"
     ]
    }
   ],
   "source": [
    "# print the conclusion based on p-value\n",
    "if pvalue < 0.05:\n",
    "    print(f'As the p-value {pvalue} is less than the level of significance, we reject the null hypothesis.')\n",
    "else:\n",
    "    print(f'As the p-value {pvalue} is greater than the level of significance, we fail to reject the null hypothesis.')"
   ]
  },
  {
   "cell_type": "markdown",
   "id": "61babdb4",
   "metadata": {},
   "source": [
    "## Step 10: Draw Inference"
   ]
  },
  {
   "cell_type": "markdown",
   "id": "516ac061",
   "metadata": {},
   "source": [
    "Since the p-value is greater than the 5% significance level, we fail to reject the null hypothesis. Hence, we dont have enough statistical evidence to say that the mean time spent on the new page with respect to the three different languages are different."
   ]
  },
  {
   "cell_type": "markdown",
   "id": "a10a25c7",
   "metadata": {},
   "source": [
    "# Conclusion"
   ]
  },
  {
   "cell_type": "markdown",
   "id": "1ab8b9fd",
   "metadata": {},
   "source": [
    "1. Users spending more time on the new_landing_page than the old_landing_page.\n",
    "2. Time spent by the different users with converted status \"yes\" is more than the users with converted status \"no\".\n",
    "3. Conversion rate for new page is greater than the old page. \n",
    "4. Conversion status is independent of preferred language. \n",
    "5. The mean time spent on the new page with respect to the three different languages are equal.\n",
    "6. Though the count of English language users are comparitively low, their conversion rate is higher than the other two language users. \n"
   ]
  }
 ],
 "metadata": {
  "kernelspec": {
   "display_name": "Python 3",
   "language": "python",
   "name": "python3"
  },
  "language_info": {
   "codemirror_mode": {
    "name": "ipython",
    "version": 3
   },
   "file_extension": ".py",
   "mimetype": "text/x-python",
   "name": "python",
   "nbconvert_exporter": "python",
   "pygments_lexer": "ipython3",
   "version": "3.8.8"
  }
 },
 "nbformat": 4,
 "nbformat_minor": 5
}
